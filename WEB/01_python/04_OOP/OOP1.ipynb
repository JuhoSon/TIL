{
 "cells": [
  {
   "cell_type": "markdown",
   "id": "70efa5f0",
   "metadata": {},
   "source": [
    "# OOP \n",
    "\n",
    "## Person"
   ]
  },
  {
   "cell_type": "code",
   "execution_count": 3,
   "id": "d4b81a88",
   "metadata": {},
   "outputs": [
    {
     "name": "stdout",
     "output_type": "stream",
     "text": [
      "안녕하세요 지민입니다.\n"
     ]
    }
   ],
   "source": [
    "class Person:\n",
    "\n",
    "    def greeting(self):\n",
    "        print('안녕하세요 ' + self.name + '입니다.')\n",
    "\n",
    "\n",
    "jimin = Person()\n",
    "jimin.name = '지민'\n",
    "jimin.phone = '01012341234'\n",
    "jimin.greeting()"
   ]
  },
  {
   "cell_type": "code",
   "execution_count": 20,
   "id": "31486951",
   "metadata": {},
   "outputs": [
    {
     "data": {
      "text/plain": [
       "'01012341234'"
      ]
     },
     "execution_count": 20,
     "metadata": {},
     "output_type": "execute_result"
    }
   ],
   "source": [
    "jimin.phone"
   ]
  },
  {
   "cell_type": "code",
   "execution_count": 21,
   "id": "64f6615e",
   "metadata": {},
   "outputs": [],
   "source": [
    "jimin.group = 'BTS'"
   ]
  },
  {
   "cell_type": "code",
   "execution_count": 4,
   "id": "f4cbbac7",
   "metadata": {},
   "outputs": [
    {
     "name": "stdout",
     "output_type": "stream",
     "text": [
      "안녕하세요 효은입니다.\n"
     ]
    }
   ],
   "source": [
    "hyoeun = Person()\n",
    "hyoeun.name = '효은'\n",
    "hyoeun.greeting()"
   ]
  },
  {
   "cell_type": "code",
   "execution_count": 6,
   "id": "fafd5710",
   "metadata": {},
   "outputs": [
    {
     "name": "stdout",
     "output_type": "stream",
     "text": [
      "안녕하세요 아이유\n",
      "아이유\n",
      "안녕하세요 홍길동\n",
      "홍길동\n"
     ]
    }
   ],
   "source": [
    "person_01 = {\n",
    "    'name': '아이유',\n",
    "    'age': 20\n",
    "}\n",
    "\n",
    "person_02 = {\n",
    "    'name': '홍길동',\n",
    "    'age': 999\n",
    "}\n",
    "\n",
    "def greeting(person):\n",
    "    # person : dictionary\n",
    "    print('안녕하세요 ' + person[\"name\"]) \n",
    "\n",
    "greeting(person_01)\n",
    "print(person_01['name'])\n",
    "\n",
    "greeting(person_02)\n",
    "print(person_02['name'])"
   ]
  },
  {
   "cell_type": "code",
   "execution_count": 7,
   "id": "69852176",
   "metadata": {},
   "outputs": [
    {
     "data": {
      "text/plain": [
       "{'a': 'apple'}"
      ]
     },
     "execution_count": 7,
     "metadata": {},
     "output_type": "execute_result"
    }
   ],
   "source": [
    "d = dict(a='apple')\n",
    "d"
   ]
  },
  {
   "cell_type": "code",
   "execution_count": 9,
   "id": "ede4e574",
   "metadata": {},
   "outputs": [
    {
     "data": {
      "text/plain": [
       "{'ᄀ': '김'}"
      ]
     },
     "execution_count": 9,
     "metadata": {},
     "output_type": "execute_result"
    }
   ],
   "source": [
    "d = dict(ㄱ='김')\n",
    "d"
   ]
  },
  {
   "cell_type": "code",
   "execution_count": 10,
   "id": "67fae33f",
   "metadata": {},
   "outputs": [
    {
     "data": {
      "text/plain": [
       "dict_items([('ᄀ', '김')])"
      ]
     },
     "execution_count": 10,
     "metadata": {},
     "output_type": "execute_result"
    }
   ],
   "source": [
    "d.items()"
   ]
  },
  {
   "cell_type": "markdown",
   "id": "9f54bed2",
   "metadata": {},
   "source": [
    "## Rectangle"
   ]
  },
  {
   "cell_type": "code",
   "execution_count": 13,
   "id": "a5e1c8f5",
   "metadata": {},
   "outputs": [
    {
     "name": "stdout",
     "output_type": "stream",
     "text": [
      "20000\n",
      "100\n"
     ]
    }
   ],
   "source": [
    "# 단순 변수\n",
    "x_01 = 100 # 너비\n",
    "y_01 = 200 # 높이\n",
    "\n",
    "area_01 = x_01 * y_01\n",
    "print(area_01)\n",
    "\n",
    "x_02 = 10 # 너비\n",
    "y_02 = 10 # 높이\n",
    "\n",
    "area_02 = x_02 * y_02\n",
    "print(area_02)"
   ]
  },
  {
   "cell_type": "code",
   "execution_count": 14,
   "id": "5d7f62f8",
   "metadata": {},
   "outputs": [
    {
     "name": "stdout",
     "output_type": "stream",
     "text": [
      "20000\n",
      "100\n"
     ]
    }
   ],
   "source": [
    "# 함수\n",
    "def area(x, y):\n",
    "    return x * y\n",
    "\n",
    "print(area(x_01, y_01))\n",
    "print(area(x_02, y_02))"
   ]
  },
  {
   "cell_type": "code",
   "execution_count": 87,
   "id": "740f833c",
   "metadata": {},
   "outputs": [],
   "source": [
    "# 객체\n",
    "class Rectangle:\n",
    "    \n",
    "    def area(self):\n",
    "        return self.x * self.y"
   ]
  },
  {
   "cell_type": "code",
   "execution_count": 88,
   "id": "8215fc74",
   "metadata": {},
   "outputs": [
    {
     "data": {
      "text/plain": [
       "20000"
      ]
     },
     "execution_count": 88,
     "metadata": {},
     "output_type": "execute_result"
    }
   ],
   "source": [
    "r1 = Rectangle()\n",
    "r1.x = 100\n",
    "r1.y = 200\n",
    "r1.area()"
   ]
  },
  {
   "cell_type": "code",
   "execution_count": 89,
   "id": "f4af75bb",
   "metadata": {},
   "outputs": [
    {
     "data": {
      "text/plain": [
       "100"
      ]
     },
     "execution_count": 89,
     "metadata": {},
     "output_type": "execute_result"
    }
   ],
   "source": [
    "r2 = Rectangle()\n",
    "r2.x = 10\n",
    "r2.y = 10\n",
    "r2.area()"
   ]
  },
  {
   "cell_type": "code",
   "execution_count": 90,
   "id": "5d6a101a",
   "metadata": {},
   "outputs": [
    {
     "ename": "AttributeError",
     "evalue": "'Rectangle' object has no attribute 'x'",
     "output_type": "error",
     "traceback": [
      "\u001b[1;31m-------------------------------------------------------------------\u001b[0m",
      "\u001b[1;31mAttributeError\u001b[0m                    Traceback (most recent call last)",
      "Input \u001b[1;32mIn [90]\u001b[0m, in \u001b[0;36m<module>\u001b[1;34m\u001b[0m\n\u001b[0;32m      1\u001b[0m r3 \u001b[38;5;241m=\u001b[39m Rectangle()\n\u001b[1;32m----> 2\u001b[0m \u001b[43mr3\u001b[49m\u001b[38;5;241;43m.\u001b[39;49m\u001b[43marea\u001b[49m\u001b[43m(\u001b[49m\u001b[43m)\u001b[49m\n",
      "Input \u001b[1;32mIn [87]\u001b[0m, in \u001b[0;36mRectangle.area\u001b[1;34m(self)\u001b[0m\n\u001b[0;32m      4\u001b[0m \u001b[38;5;28;01mdef\u001b[39;00m \u001b[38;5;21marea\u001b[39m(\u001b[38;5;28mself\u001b[39m):\n\u001b[1;32m----> 5\u001b[0m     \u001b[38;5;28;01mreturn\u001b[39;00m \u001b[38;5;28;43mself\u001b[39;49m\u001b[38;5;241;43m.\u001b[39;49m\u001b[43mx\u001b[49m \u001b[38;5;241m*\u001b[39m \u001b[38;5;28mself\u001b[39m\u001b[38;5;241m.\u001b[39my\n",
      "\u001b[1;31mAttributeError\u001b[0m: 'Rectangle' object has no attribute 'x'"
     ]
    }
   ],
   "source": [
    "r3 = Rectangle()\n",
    "r3.area()"
   ]
  },
  {
   "cell_type": "markdown",
   "id": "10576699",
   "metadata": {},
   "source": [
    "## 인스턴스 메서드"
   ]
  },
  {
   "cell_type": "code",
   "execution_count": 22,
   "id": "ea274bd6",
   "metadata": {},
   "outputs": [
    {
     "ename": "TypeError",
     "evalue": "test() takes 0 positional arguments but 1 was given",
     "output_type": "error",
     "traceback": [
      "\u001b[1;31m-------------------------------------------------------------------\u001b[0m",
      "\u001b[1;31mTypeError\u001b[0m                         Traceback (most recent call last)",
      "Input \u001b[1;32mIn [22]\u001b[0m, in \u001b[0;36m<module>\u001b[1;34m\u001b[0m\n\u001b[0;32m      7\u001b[0m \u001b[38;5;66;03m# 인스턴스 생성 (p1)\u001b[39;00m\n\u001b[0;32m      8\u001b[0m p1 \u001b[38;5;241m=\u001b[39m Person()\n\u001b[1;32m---> 10\u001b[0m \u001b[43mp1\u001b[49m\u001b[38;5;241;43m.\u001b[39;49m\u001b[43mtest\u001b[49m\u001b[43m(\u001b[49m\u001b[43m)\u001b[49m\n",
      "\u001b[1;31mTypeError\u001b[0m: test() takes 0 positional arguments but 1 was given"
     ]
    }
   ],
   "source": [
    "# 클래스 정의 (Person)\n",
    "class Person:\n",
    "\n",
    "    def test():\n",
    "        return 'self'\n",
    "\n",
    "# 인스턴스 생성 (p1)\n",
    "p1 = Person()\n",
    "\n",
    "p1.test()"
   ]
  },
  {
   "cell_type": "code",
   "execution_count": 23,
   "id": "36a8a67a",
   "metadata": {},
   "outputs": [
    {
     "data": {
      "text/plain": [
       "<__main__.Person at 0x239f785f580>"
      ]
     },
     "execution_count": 23,
     "metadata": {},
     "output_type": "execute_result"
    }
   ],
   "source": [
    "# 클래스 정의 (Person)\n",
    "class Person:\n",
    "\n",
    "    def test(self):\n",
    "        return self\n",
    "\n",
    "# 인스턴스 생성 (p1)\n",
    "p1 = Person()\n",
    "\n",
    "p1.test()"
   ]
  },
  {
   "cell_type": "code",
   "execution_count": 24,
   "id": "3deaa237",
   "metadata": {},
   "outputs": [
    {
     "data": {
      "text/plain": [
       "<__main__.Person at 0x239f785f580>"
      ]
     },
     "execution_count": 24,
     "metadata": {},
     "output_type": "execute_result"
    }
   ],
   "source": [
    "p1"
   ]
  },
  {
   "cell_type": "code",
   "execution_count": 25,
   "id": "d73b9242",
   "metadata": {},
   "outputs": [
    {
     "data": {
      "text/plain": [
       "<__main__.Person at 0x239f785f580>"
      ]
     },
     "execution_count": 25,
     "metadata": {},
     "output_type": "execute_result"
    }
   ],
   "source": [
    "Person.test(p1) # 내부적으로는 이렇게 실행"
   ]
  },
  {
   "cell_type": "markdown",
   "id": "2c0d9be1",
   "metadata": {},
   "source": [
    "## 생성자 메서드"
   ]
  },
  {
   "cell_type": "code",
   "execution_count": 26,
   "id": "afe19813",
   "metadata": {},
   "outputs": [],
   "source": [
    "class Person:\n",
    "    \n",
    "    def __init__(self):\n",
    "        print('응애!')"
   ]
  },
  {
   "cell_type": "code",
   "execution_count": 27,
   "id": "94a545a4",
   "metadata": {},
   "outputs": [
    {
     "name": "stdout",
     "output_type": "stream",
     "text": [
      "응애!\n"
     ]
    }
   ],
   "source": [
    "p1 = Person()"
   ]
  },
  {
   "cell_type": "code",
   "execution_count": 28,
   "id": "78df2eae",
   "metadata": {},
   "outputs": [
    {
     "name": "stdout",
     "output_type": "stream",
     "text": [
      "응애!\n"
     ]
    }
   ],
   "source": [
    "p2 = Person()"
   ]
  },
  {
   "cell_type": "code",
   "execution_count": 30,
   "id": "60cfdead",
   "metadata": {},
   "outputs": [],
   "source": [
    "class Person:\n",
    "    \n",
    "    def __init__(self, name, age):\n",
    "        # 인스턴스 변수를 정의하기 위해 사용!\n",
    "        self.name = name\n",
    "        self.age = age"
   ]
  },
  {
   "cell_type": "code",
   "execution_count": 31,
   "id": "d06a5c8c",
   "metadata": {},
   "outputs": [
    {
     "ename": "TypeError",
     "evalue": "__init__() missing 2 required positional arguments: 'name' and 'age'",
     "output_type": "error",
     "traceback": [
      "\u001b[1;31m-------------------------------------------------------------------\u001b[0m",
      "\u001b[1;31mTypeError\u001b[0m                         Traceback (most recent call last)",
      "Input \u001b[1;32mIn [31]\u001b[0m, in \u001b[0;36m<module>\u001b[1;34m\u001b[0m\n\u001b[1;32m----> 1\u001b[0m p1 \u001b[38;5;241m=\u001b[39m \u001b[43mPerson\u001b[49m\u001b[43m(\u001b[49m\u001b[43m)\u001b[49m\n",
      "\u001b[1;31mTypeError\u001b[0m: __init__() missing 2 required positional arguments: 'name' and 'age'"
     ]
    }
   ],
   "source": [
    "p1 = Person()\n",
    "# TypeError: __init__() missing 2 required positional arguments: 'name' and 'age'\n",
    "# Person() 인스턴스를 만들면 __init__ 메서드가 호출되는구나. "
   ]
  },
  {
   "cell_type": "code",
   "execution_count": 32,
   "id": "b9d8cace",
   "metadata": {},
   "outputs": [],
   "source": [
    "young = Person('영택', 100)"
   ]
  },
  {
   "cell_type": "code",
   "execution_count": 33,
   "id": "7233f870",
   "metadata": {},
   "outputs": [
    {
     "name": "stdout",
     "output_type": "stream",
     "text": [
      "영택 100\n"
     ]
    }
   ],
   "source": [
    "print(young.name, young.age)"
   ]
  },
  {
   "cell_type": "code",
   "execution_count": 34,
   "id": "d5d9535f",
   "metadata": {},
   "outputs": [],
   "source": [
    "class Person:\n",
    "    \n",
    "    def __init__(self, name, age=1):\n",
    "        # 인스턴스 변수를 정의하기 위해 사용!\n",
    "        self.name = name\n",
    "        self.age = age"
   ]
  },
  {
   "cell_type": "code",
   "execution_count": 35,
   "id": "794eebc5",
   "metadata": {},
   "outputs": [],
   "source": [
    "jihye = Person('지혜')"
   ]
  },
  {
   "cell_type": "code",
   "execution_count": 36,
   "id": "ee2509ce",
   "metadata": {},
   "outputs": [
    {
     "name": "stdout",
     "output_type": "stream",
     "text": [
      "지혜 1\n"
     ]
    }
   ],
   "source": [
    "print(jihye.name, jihye.age)"
   ]
  },
  {
   "cell_type": "code",
   "execution_count": 37,
   "id": "e5f4346c",
   "metadata": {},
   "outputs": [],
   "source": [
    "hyoeun = Person('효은', 999)"
   ]
  },
  {
   "cell_type": "code",
   "execution_count": 38,
   "id": "e6818455",
   "metadata": {},
   "outputs": [
    {
     "name": "stdout",
     "output_type": "stream",
     "text": [
      "효은 999\n"
     ]
    }
   ],
   "source": [
    "print(hyoeun.name, hyoeun.age)"
   ]
  },
  {
   "cell_type": "markdown",
   "id": "787b6e0a",
   "metadata": {},
   "source": [
    "## 소멸자"
   ]
  },
  {
   "cell_type": "code",
   "execution_count": 39,
   "id": "6b9853c2",
   "metadata": {},
   "outputs": [],
   "source": [
    "class Person:\n",
    "    \n",
    "    def __init__(self):\n",
    "        print('응애')\n",
    "        \n",
    "    def __del__(self):\n",
    "        print('으억...')"
   ]
  },
  {
   "cell_type": "code",
   "execution_count": 46,
   "id": "4b75f05f",
   "metadata": {},
   "outputs": [
    {
     "name": "stdout",
     "output_type": "stream",
     "text": [
      "응애\n"
     ]
    }
   ],
   "source": [
    "p100 = Person()"
   ]
  },
  {
   "cell_type": "code",
   "execution_count": 47,
   "id": "306546f6",
   "metadata": {},
   "outputs": [
    {
     "name": "stdout",
     "output_type": "stream",
     "text": [
      "으억...\n"
     ]
    }
   ],
   "source": [
    "del p100"
   ]
  },
  {
   "cell_type": "markdown",
   "id": "2de8fbfc",
   "metadata": {},
   "source": [
    "## 매직 메서드 활용 "
   ]
  },
  {
   "cell_type": "code",
   "execution_count": 67,
   "id": "045801e6",
   "metadata": {},
   "outputs": [],
   "source": [
    "class Person:\n",
    "    \n",
    "    def __init__(self, name, age, height):\n",
    "        self.name = name\n",
    "        self.age = age\n",
    "        self.height = height\n",
    "    \n",
    "    def __gt__(self, other):\n",
    "        print(f'{self.name}: {self.age}살 / {other.name}: {other.age}살')\n",
    "        return self.age > other.age\n",
    "    \n",
    "    def __len__(self):\n",
    "        return self.height"
   ]
  },
  {
   "cell_type": "code",
   "execution_count": 68,
   "id": "33975d67",
   "metadata": {},
   "outputs": [],
   "source": [
    "p1 = Person('재영', 100, 190)\n",
    "p2 = Person('지선', 10, 185)"
   ]
  },
  {
   "cell_type": "code",
   "execution_count": 69,
   "id": "c8b137da",
   "metadata": {},
   "outputs": [
    {
     "name": "stdout",
     "output_type": "stream",
     "text": [
      "재영: 100살 / 지선: 10살\n"
     ]
    },
    {
     "data": {
      "text/plain": [
       "True"
      ]
     },
     "execution_count": 69,
     "metadata": {},
     "output_type": "execute_result"
    }
   ],
   "source": [
    "p1 > p2"
   ]
  },
  {
   "cell_type": "code",
   "execution_count": 70,
   "id": "e61fa46c",
   "metadata": {},
   "outputs": [
    {
     "data": {
      "text/plain": [
       "190"
      ]
     },
     "execution_count": 70,
     "metadata": {},
     "output_type": "execute_result"
    }
   ],
   "source": [
    "len(p1)"
   ]
  },
  {
   "cell_type": "code",
   "execution_count": 71,
   "id": "2d7a328d",
   "metadata": {},
   "outputs": [
    {
     "data": {
      "text/plain": [
       "185"
      ]
     },
     "execution_count": 71,
     "metadata": {},
     "output_type": "execute_result"
    }
   ],
   "source": [
    "len(p2)"
   ]
  },
  {
   "cell_type": "code",
   "execution_count": 74,
   "id": "d667b37b",
   "metadata": {},
   "outputs": [
    {
     "name": "stdout",
     "output_type": "stream",
     "text": [
      "<__main__.Person object at 0x00000239F8A3DA00>\n"
     ]
    }
   ],
   "source": [
    "print(p1)"
   ]
  },
  {
   "cell_type": "code",
   "execution_count": 75,
   "id": "1a9ae75e",
   "metadata": {},
   "outputs": [],
   "source": [
    "class Person:\n",
    "    \n",
    "    def __init__(self, name, age, height):\n",
    "        self.name = name\n",
    "        self.age = age\n",
    "        self.height = height\n",
    "        \n",
    "    def __str__(self):\n",
    "        return f'<{self.name}> : {self.age}살'\n",
    "    \n",
    "    def __gt__(self, other):\n",
    "        print(f'{self.name}: {self.age}살 / {other.name}: {other.age}살')\n",
    "        return self.age > other.age\n",
    "    \n",
    "    def __len__(self):\n",
    "        return self.height"
   ]
  },
  {
   "cell_type": "code",
   "execution_count": 76,
   "id": "fdf6539d",
   "metadata": {},
   "outputs": [],
   "source": [
    "p1 = Person('민준', 999, 200)"
   ]
  },
  {
   "cell_type": "code",
   "execution_count": 77,
   "id": "f397facc",
   "metadata": {},
   "outputs": [
    {
     "name": "stdout",
     "output_type": "stream",
     "text": [
      "<민준> : 999살\n"
     ]
    }
   ],
   "source": [
    "print(p1)"
   ]
  },
  {
   "cell_type": "code",
   "execution_count": 82,
   "id": "512468f8",
   "metadata": {},
   "outputs": [],
   "source": [
    "a = map(int, '1 2 3'.split())"
   ]
  },
  {
   "cell_type": "code",
   "execution_count": 83,
   "id": "4315d9ff",
   "metadata": {},
   "outputs": [
    {
     "name": "stdout",
     "output_type": "stream",
     "text": [
      "<map object at 0x00000239F7877670>\n"
     ]
    }
   ],
   "source": [
    "print(a)"
   ]
  },
  {
   "cell_type": "code",
   "execution_count": 84,
   "id": "65e37df8",
   "metadata": {
    "scrolled": true
   },
   "outputs": [
    {
     "name": "stdout",
     "output_type": "stream",
     "text": [
      "[1, 2, 3]\n"
     ]
    }
   ],
   "source": [
    "print(list(a))"
   ]
  },
  {
   "cell_type": "code",
   "execution_count": 85,
   "id": "04bb3032",
   "metadata": {},
   "outputs": [
    {
     "data": {
      "text/plain": [
       "['__add__',\n",
       " '__class__',\n",
       " '__contains__',\n",
       " '__delattr__',\n",
       " '__dir__',\n",
       " '__doc__',\n",
       " '__eq__',\n",
       " '__format__',\n",
       " '__ge__',\n",
       " '__getattribute__',\n",
       " '__getitem__',\n",
       " '__getnewargs__',\n",
       " '__gt__',\n",
       " '__hash__',\n",
       " '__init__',\n",
       " '__init_subclass__',\n",
       " '__iter__',\n",
       " '__le__',\n",
       " '__len__',\n",
       " '__lt__',\n",
       " '__mod__',\n",
       " '__mul__',\n",
       " '__ne__',\n",
       " '__new__',\n",
       " '__reduce__',\n",
       " '__reduce_ex__',\n",
       " '__repr__',\n",
       " '__rmod__',\n",
       " '__rmul__',\n",
       " '__setattr__',\n",
       " '__sizeof__',\n",
       " '__str__',\n",
       " '__subclasshook__',\n",
       " 'capitalize',\n",
       " 'casefold',\n",
       " 'center',\n",
       " 'count',\n",
       " 'encode',\n",
       " 'endswith',\n",
       " 'expandtabs',\n",
       " 'find',\n",
       " 'format',\n",
       " 'format_map',\n",
       " 'index',\n",
       " 'isalnum',\n",
       " 'isalpha',\n",
       " 'isascii',\n",
       " 'isdecimal',\n",
       " 'isdigit',\n",
       " 'isidentifier',\n",
       " 'islower',\n",
       " 'isnumeric',\n",
       " 'isprintable',\n",
       " 'isspace',\n",
       " 'istitle',\n",
       " 'isupper',\n",
       " 'join',\n",
       " 'ljust',\n",
       " 'lower',\n",
       " 'lstrip',\n",
       " 'maketrans',\n",
       " 'partition',\n",
       " 'removeprefix',\n",
       " 'removesuffix',\n",
       " 'replace',\n",
       " 'rfind',\n",
       " 'rindex',\n",
       " 'rjust',\n",
       " 'rpartition',\n",
       " 'rsplit',\n",
       " 'rstrip',\n",
       " 'split',\n",
       " 'splitlines',\n",
       " 'startswith',\n",
       " 'strip',\n",
       " 'swapcase',\n",
       " 'title',\n",
       " 'translate',\n",
       " 'upper',\n",
       " 'zfill']"
      ]
     },
     "execution_count": 85,
     "metadata": {},
     "output_type": "execute_result"
    }
   ],
   "source": [
    "dir('hi')"
   ]
  },
  {
   "cell_type": "code",
   "execution_count": 86,
   "id": "5bf5327e",
   "metadata": {},
   "outputs": [
    {
     "data": {
      "text/plain": [
       "['__class__',\n",
       " '__delattr__',\n",
       " '__dict__',\n",
       " '__dir__',\n",
       " '__doc__',\n",
       " '__eq__',\n",
       " '__format__',\n",
       " '__ge__',\n",
       " '__getattribute__',\n",
       " '__gt__',\n",
       " '__hash__',\n",
       " '__init__',\n",
       " '__init_subclass__',\n",
       " '__le__',\n",
       " '__len__',\n",
       " '__lt__',\n",
       " '__module__',\n",
       " '__ne__',\n",
       " '__new__',\n",
       " '__reduce__',\n",
       " '__reduce_ex__',\n",
       " '__repr__',\n",
       " '__setattr__',\n",
       " '__sizeof__',\n",
       " '__str__',\n",
       " '__subclasshook__',\n",
       " '__weakref__',\n",
       " 'age',\n",
       " 'height',\n",
       " 'name']"
      ]
     },
     "execution_count": 86,
     "metadata": {},
     "output_type": "execute_result"
    }
   ],
   "source": [
    "dir(p1)"
   ]
  },
  {
   "cell_type": "markdown",
   "id": "655a0954",
   "metadata": {},
   "source": [
    "## 클래스 변수"
   ]
  },
  {
   "cell_type": "code",
   "execution_count": 97,
   "id": "fc4b9de6",
   "metadata": {},
   "outputs": [],
   "source": [
    "class Circle:\n",
    "    pi = 3.14\n",
    "    \n",
    "    def __init__(self, r):\n",
    "        self.r = r\n",
    "    \n",
    "    def area(self):\n",
    "        return Circle.pi * self.r * self.r"
   ]
  },
  {
   "cell_type": "code",
   "execution_count": 98,
   "id": "a070a9c3",
   "metadata": {},
   "outputs": [
    {
     "data": {
      "text/plain": [
       "3.14"
      ]
     },
     "execution_count": 98,
     "metadata": {},
     "output_type": "execute_result"
    }
   ],
   "source": [
    "Circle.pi"
   ]
  },
  {
   "cell_type": "code",
   "execution_count": 99,
   "id": "7cb2839c",
   "metadata": {},
   "outputs": [
    {
     "data": {
      "text/plain": [
       "12.56"
      ]
     },
     "execution_count": 99,
     "metadata": {},
     "output_type": "execute_result"
    }
   ],
   "source": [
    "c1 = Circle(2)\n",
    "c1.area()"
   ]
  },
  {
   "cell_type": "code",
   "execution_count": 100,
   "id": "f6c6fe9a",
   "metadata": {},
   "outputs": [
    {
     "data": {
      "text/plain": [
       "3.14"
      ]
     },
     "execution_count": 100,
     "metadata": {},
     "output_type": "execute_result"
    }
   ],
   "source": [
    "c1.pi"
   ]
  },
  {
   "cell_type": "code",
   "execution_count": 101,
   "id": "fff66918",
   "metadata": {},
   "outputs": [
    {
     "data": {
      "text/plain": [
       "28.259999999999998"
      ]
     },
     "execution_count": 101,
     "metadata": {},
     "output_type": "execute_result"
    }
   ],
   "source": [
    "c2 = Circle(3)\n",
    "c2.area()"
   ]
  },
  {
   "cell_type": "code",
   "execution_count": 102,
   "id": "8f9c087c",
   "metadata": {},
   "outputs": [
    {
     "data": {
      "text/plain": [
       "3.14"
      ]
     },
     "execution_count": 102,
     "metadata": {},
     "output_type": "execute_result"
    }
   ],
   "source": [
    "c2.pi"
   ]
  },
  {
   "cell_type": "markdown",
   "id": "ce7f46f4",
   "metadata": {},
   "source": [
    "## 클래스 메서드"
   ]
  },
  {
   "cell_type": "code",
   "execution_count": 106,
   "id": "a0d1af20",
   "metadata": {},
   "outputs": [],
   "source": [
    "class MyClass:\n",
    "    var = 'Class 변수'\n",
    "    \n",
    "    @classmethod\n",
    "    def class_method(cls):\n",
    "        print(cls.var)\n",
    "        return cls"
   ]
  },
  {
   "cell_type": "code",
   "execution_count": 107,
   "id": "244517f0",
   "metadata": {},
   "outputs": [
    {
     "name": "stdout",
     "output_type": "stream",
     "text": [
      "Class 변수\n"
     ]
    },
    {
     "data": {
      "text/plain": [
       "__main__.MyClass"
      ]
     },
     "execution_count": 107,
     "metadata": {},
     "output_type": "execute_result"
    }
   ],
   "source": [
    "MyClass.class_method()"
   ]
  },
  {
   "cell_type": "code",
   "execution_count": 108,
   "id": "fde7e7a7",
   "metadata": {},
   "outputs": [
    {
     "data": {
      "text/plain": [
       "__main__.MyClass"
      ]
     },
     "execution_count": 108,
     "metadata": {},
     "output_type": "execute_result"
    }
   ],
   "source": [
    "MyClass"
   ]
  },
  {
   "cell_type": "markdown",
   "id": "541471f3",
   "metadata": {},
   "source": [
    "## 스태틱 메서드"
   ]
  },
  {
   "cell_type": "code",
   "execution_count": 110,
   "id": "32bb320e",
   "metadata": {},
   "outputs": [],
   "source": [
    "class MyClass:\n",
    "    \n",
    "    @staticmethod\n",
    "    def static_method(static):\n",
    "        return static"
   ]
  },
  {
   "cell_type": "code",
   "execution_count": 111,
   "id": "1cd0a9d5",
   "metadata": {},
   "outputs": [
    {
     "ename": "TypeError",
     "evalue": "static_method() missing 1 required positional argument: 'static'",
     "output_type": "error",
     "traceback": [
      "\u001b[1;31m-------------------------------------------------------------------\u001b[0m",
      "\u001b[1;31mTypeError\u001b[0m                         Traceback (most recent call last)",
      "Input \u001b[1;32mIn [111]\u001b[0m, in \u001b[0;36m<module>\u001b[1;34m\u001b[0m\n\u001b[1;32m----> 1\u001b[0m \u001b[43mMyClass\u001b[49m\u001b[38;5;241;43m.\u001b[39;49m\u001b[43mstatic_method\u001b[49m\u001b[43m(\u001b[49m\u001b[43m)\u001b[49m\n",
      "\u001b[1;31mTypeError\u001b[0m: static_method() missing 1 required positional argument: 'static'"
     ]
    }
   ],
   "source": [
    "MyClass.static_method()\n",
    "# static_method() missing 1 required positional argument: 'static'\n",
    "# 1개 값을 왜 안넘겨줘?"
   ]
  },
  {
   "cell_type": "code",
   "execution_count": 112,
   "id": "8184cc7a",
   "metadata": {},
   "outputs": [],
   "source": [
    "class MyClass:\n",
    "    \n",
    "    @staticmethod\n",
    "    def static_method():\n",
    "        return 'static'"
   ]
  },
  {
   "cell_type": "code",
   "execution_count": 113,
   "id": "541cd385",
   "metadata": {},
   "outputs": [
    {
     "data": {
      "text/plain": [
       "'static'"
      ]
     },
     "execution_count": 113,
     "metadata": {},
     "output_type": "execute_result"
    }
   ],
   "source": [
    "MyClass.static_method()"
   ]
  },
  {
   "cell_type": "code",
   "execution_count": 114,
   "id": "bc9ab949",
   "metadata": {},
   "outputs": [],
   "source": [
    "class MyClass:\n",
    "\n",
    "    # 함수는 기본적으로 로컬 스코프 \n",
    "    # 내부에서 활용하고 싶으면 파라미터로 받도록 정의!\n",
    "    \n",
    "    # 인스턴스 메서드 : 인스턴스를 조작하고 싶어\n",
    "    # (파이썬제작자) 함수 내부에 인스턴스를 던져주도록 설계\n",
    "    # 메서드를 정의할 때 self로 받도록 \n",
    "    def instance_method(self):\n",
    "        return self \n",
    "    \n",
    "    # 클래스 메서드 : 클래스를 조작하고 싶어\n",
    "    # (파이썬제작자) 함수 내부에 클래스를 던져주도록 설계 \n",
    "    # 메서드를 정의할 때 cls로 받도록\n",
    "    @classmethod\n",
    "    def class_method(cls):\n",
    "        print(cls.var)\n",
    "        return cls\n",
    "    \n",
    "    # 스태틱 메서드 : 클래스나 인스턴스를 조작할 생각은 없는데 함수를 쓸거야\n",
    "    @staticmethod\n",
    "    def static_method():\n",
    "        return ''"
   ]
  },
  {
   "cell_type": "code",
   "execution_count": null,
   "id": "602b9eb5",
   "metadata": {},
   "outputs": [],
   "source": [
    "class Person():\n",
    "    population = 0\n",
    "    \n",
    "    @classmethod\n",
    "    \n",
    "    @staticmethod\n",
    "    def static_method():\n",
    "        return '사람들임'"
   ]
  },
  {
   "cell_type": "code",
   "execution_count": null,
   "id": "4948fd94",
   "metadata": {},
   "outputs": [],
   "source": []
  },
  {
   "cell_type": "code",
   "execution_count": null,
   "id": "b8560907",
   "metadata": {},
   "outputs": [],
   "source": []
  }
 ],
 "metadata": {
  "kernelspec": {
   "display_name": "Python 3 (ipykernel)",
   "language": "python",
   "name": "python3"
  },
  "language_info": {
   "codemirror_mode": {
    "name": "ipython",
    "version": 3
   },
   "file_extension": ".py",
   "mimetype": "text/x-python",
   "name": "python",
   "nbconvert_exporter": "python",
   "pygments_lexer": "ipython3",
   "version": "3.9.9"
  }
 },
 "nbformat": 4,
 "nbformat_minor": 5
}
