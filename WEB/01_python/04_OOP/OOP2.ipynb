{
 "cells": [
  {
   "cell_type": "code",
   "execution_count": 3,
   "id": "5cc18a5b",
   "metadata": {},
   "outputs": [],
   "source": [
    "class MathUtility:\n",
    "    \n",
    "    @staticmethod\n",
    "    def get_pi():\n",
    "        return 3.141592\n",
    "    \n",
    "    @staticmethod\n",
    "    def get_e():\n",
    "        return 2"
   ]
  },
  {
   "cell_type": "code",
   "execution_count": 4,
   "id": "89f2d053",
   "metadata": {},
   "outputs": [
    {
     "data": {
      "text/plain": [
       "2"
      ]
     },
     "execution_count": 4,
     "metadata": {},
     "output_type": "execute_result"
    }
   ],
   "source": [
    "MathUtility.get_e()"
   ]
  },
  {
   "cell_type": "code",
   "execution_count": 2,
   "id": "59037634",
   "metadata": {},
   "outputs": [
    {
     "data": {
      "text/plain": [
       "3.141592"
      ]
     },
     "execution_count": 2,
     "metadata": {},
     "output_type": "execute_result"
    }
   ],
   "source": [
    "MathUtility.get_pi()"
   ]
  },
  {
   "cell_type": "code",
   "execution_count": 5,
   "id": "5e1392dd",
   "metadata": {},
   "outputs": [],
   "source": [
    "class PersonUtility:\n",
    "    \n",
    "    @staticmethod\n",
    "    def get_phone_number(phone_number):\n",
    "        return phone_number[:2] + ')' + phone_number[2:]"
   ]
  },
  {
   "cell_type": "code",
   "execution_count": 6,
   "id": "d1e00a2b",
   "metadata": {},
   "outputs": [
    {
     "data": {
      "text/plain": [
       "'02)15775588'"
      ]
     },
     "execution_count": 6,
     "metadata": {},
     "output_type": "execute_result"
    }
   ],
   "source": [
    "PersonUtility.get_phone_number('0215775588')"
   ]
  },
  {
   "cell_type": "markdown",
   "id": "23a8b397",
   "metadata": {},
   "source": [
    "## 상속"
   ]
  },
  {
   "cell_type": "code",
   "execution_count": 7,
   "id": "a31e94f8",
   "metadata": {},
   "outputs": [],
   "source": [
    "class Person:\n",
    "    \n",
    "    def __init__(self, name, age):\n",
    "        self.name = name\n",
    "        self.age = age\n",
    "        \n",
    "    def talk(self):\n",
    "        print(f'반갑습니다, {self.name}입니다.')"
   ]
  },
  {
   "cell_type": "code",
   "execution_count": 8,
   "id": "4c39afd9",
   "metadata": {},
   "outputs": [
    {
     "name": "stdout",
     "output_type": "stream",
     "text": [
      "반갑습니다, 윤경입니다.\n"
     ]
    }
   ],
   "source": [
    "p1 = Person('윤경', 30)\n",
    "p1.talk()"
   ]
  },
  {
   "cell_type": "code",
   "execution_count": 10,
   "id": "7218f52b",
   "metadata": {},
   "outputs": [],
   "source": [
    "class Professor:\n",
    "    \n",
    "    def __init__(self, name, age, department):\n",
    "        self.name = name\n",
    "        self.age = age\n",
    "        self.deparment = department"
   ]
  },
  {
   "cell_type": "code",
   "execution_count": 13,
   "id": "b536b248",
   "metadata": {},
   "outputs": [
    {
     "ename": "AttributeError",
     "evalue": "'Professor' object has no attribute 'talk'",
     "output_type": "error",
     "traceback": [
      "\u001b[1;31m-------------------------------------------------------------------\u001b[0m",
      "\u001b[1;31mAttributeError\u001b[0m                    Traceback (most recent call last)",
      "Input \u001b[1;32mIn [13]\u001b[0m, in \u001b[0;36m<module>\u001b[1;34m\u001b[0m\n\u001b[0;32m      1\u001b[0m prof1 \u001b[38;5;241m=\u001b[39m Professor(\u001b[38;5;124m'\u001b[39m\u001b[38;5;124m김교수\u001b[39m\u001b[38;5;124m'\u001b[39m, \u001b[38;5;241m50\u001b[39m, \u001b[38;5;124m'\u001b[39m\u001b[38;5;124m컴공\u001b[39m\u001b[38;5;124m'\u001b[39m)\n\u001b[1;32m----> 2\u001b[0m \u001b[43mprof1\u001b[49m\u001b[38;5;241;43m.\u001b[39;49m\u001b[43mtalk\u001b[49m()\n",
      "\u001b[1;31mAttributeError\u001b[0m: 'Professor' object has no attribute 'talk'"
     ]
    }
   ],
   "source": [
    "prof1 = Professor('김교수', 50, '컴공')\n",
    "prof1.talk()"
   ]
  },
  {
   "cell_type": "code",
   "execution_count": 14,
   "id": "3b871a39",
   "metadata": {},
   "outputs": [],
   "source": [
    "class Professor(Person):\n",
    "    \n",
    "    def __init__(self, name, age, department):\n",
    "        self.name = name\n",
    "        self.age = age\n",
    "        self.deparment = department"
   ]
  },
  {
   "cell_type": "code",
   "execution_count": 15,
   "id": "c4ede389",
   "metadata": {},
   "outputs": [
    {
     "name": "stdout",
     "output_type": "stream",
     "text": [
      "반갑습니다, 김교수입니다.\n"
     ]
    }
   ],
   "source": [
    "prof1 = Professor('김교수', 50, '컴공')\n",
    "prof1.talk()"
   ]
  },
  {
   "cell_type": "code",
   "execution_count": 20,
   "id": "96f3c149",
   "metadata": {},
   "outputs": [],
   "source": [
    "class Student(Person):\n",
    "    \n",
    "    def __init__(self, name, age, gpa):\n",
    "        self.name = name\n",
    "        self.age = age\n",
    "        self.gpa = gpa\n",
    "        \n",
    "    def talk(self):\n",
    "        print(f'{self.name}입니다. 교수님. ^^7')"
   ]
  },
  {
   "cell_type": "code",
   "execution_count": 21,
   "id": "bf4a269d",
   "metadata": {},
   "outputs": [
    {
     "name": "stdout",
     "output_type": "stream",
     "text": [
      "승운입니다. 교수님. ^^7\n"
     ]
    }
   ],
   "source": [
    "s1 = Student('승운', 20, 4.5)\n",
    "s1.talk()"
   ]
  },
  {
   "cell_type": "code",
   "execution_count": 22,
   "id": "0e0bb7e6",
   "metadata": {},
   "outputs": [],
   "source": [
    "class Person:\n",
    "    pass\n",
    "\n",
    "class Student(Person):\n",
    "    pass\n",
    "\n",
    "class Professor(Person):\n",
    "    pass"
   ]
  },
  {
   "cell_type": "code",
   "execution_count": 23,
   "id": "ac33588d",
   "metadata": {},
   "outputs": [],
   "source": [
    "p1 = Person()\n",
    "s1 = Student()\n",
    "prof1 = Professor()"
   ]
  },
  {
   "cell_type": "code",
   "execution_count": 24,
   "id": "5064ee3c",
   "metadata": {},
   "outputs": [
    {
     "data": {
      "text/plain": [
       "True"
      ]
     },
     "execution_count": 24,
     "metadata": {},
     "output_type": "execute_result"
    }
   ],
   "source": [
    "isinstance(p1, Person)"
   ]
  },
  {
   "cell_type": "code",
   "execution_count": 25,
   "id": "d73e0c21",
   "metadata": {},
   "outputs": [
    {
     "data": {
      "text/plain": [
       "True"
      ]
     },
     "execution_count": 25,
     "metadata": {},
     "output_type": "execute_result"
    }
   ],
   "source": [
    "isinstance(s1, Person)"
   ]
  },
  {
   "cell_type": "code",
   "execution_count": 26,
   "id": "1b171b69",
   "metadata": {},
   "outputs": [
    {
     "data": {
      "text/plain": [
       "False"
      ]
     },
     "execution_count": 26,
     "metadata": {},
     "output_type": "execute_result"
    }
   ],
   "source": [
    "isinstance(p1, Student)"
   ]
  },
  {
   "cell_type": "code",
   "execution_count": 27,
   "id": "87a4c474",
   "metadata": {},
   "outputs": [
    {
     "data": {
      "text/plain": [
       "True"
      ]
     },
     "execution_count": 27,
     "metadata": {},
     "output_type": "execute_result"
    }
   ],
   "source": [
    "issubclass(Student, Person)"
   ]
  },
  {
   "cell_type": "code",
   "execution_count": 28,
   "id": "80b37e29",
   "metadata": {},
   "outputs": [
    {
     "data": {
      "text/plain": [
       "True"
      ]
     },
     "execution_count": 28,
     "metadata": {},
     "output_type": "execute_result"
    }
   ],
   "source": [
    "# bool 0, 1\n",
    "# int 1, 2, 3, 4, 5, ....\n",
    "issubclass(bool, int)"
   ]
  },
  {
   "cell_type": "code",
   "execution_count": 29,
   "id": "746d62ff",
   "metadata": {},
   "outputs": [
    {
     "data": {
      "text/plain": [
       "False"
      ]
     },
     "execution_count": 29,
     "metadata": {},
     "output_type": "execute_result"
    }
   ],
   "source": [
    "# float 실수.. 정수 + 소수...\n",
    "# int\n",
    "issubclass(float, int)"
   ]
  },
  {
   "cell_type": "code",
   "execution_count": 33,
   "id": "228f0df6",
   "metadata": {},
   "outputs": [
    {
     "data": {
      "text/plain": [
       "False"
      ]
     },
     "execution_count": 33,
     "metadata": {},
     "output_type": "execute_result"
    }
   ],
   "source": [
    "issubclass(int, float)"
   ]
  },
  {
   "cell_type": "code",
   "execution_count": 34,
   "id": "930e49b7",
   "metadata": {},
   "outputs": [
    {
     "data": {
      "text/plain": [
       "False"
      ]
     },
     "execution_count": 34,
     "metadata": {},
     "output_type": "execute_result"
    }
   ],
   "source": [
    "issubclass(Professor, Student)"
   ]
  },
  {
   "cell_type": "code",
   "execution_count": 30,
   "id": "2896df93",
   "metadata": {},
   "outputs": [
    {
     "name": "stdout",
     "output_type": "stream",
     "text": [
      "3\n"
     ]
    }
   ],
   "source": [
    "a = int('3')\n",
    "print(a)"
   ]
  },
  {
   "cell_type": "code",
   "execution_count": 35,
   "id": "2b1596f5",
   "metadata": {},
   "outputs": [
    {
     "name": "stdout",
     "output_type": "stream",
     "text": [
      "<class 'int'>\n"
     ]
    }
   ],
   "source": [
    "print(type(3))"
   ]
  },
  {
   "cell_type": "markdown",
   "id": "8cda5471",
   "metadata": {},
   "source": [
    "## super"
   ]
  },
  {
   "cell_type": "code",
   "execution_count": 41,
   "id": "27bbca2d",
   "metadata": {},
   "outputs": [],
   "source": [
    "class Person:\n",
    "    \n",
    "    def __init__(self, name, age):\n",
    "        print('Person 호출..?')\n",
    "        self.name = name\n",
    "        self.age = age\n",
    "        \n",
    "    def talk(self):\n",
    "        print(f'반갑습니다, {self.name}입니다.')\n",
    "        \n",
    "class Student(Person):\n",
    "    \n",
    "    def __init__(self, name, age, student_id):\n",
    "        super().__init__(name, age)\n",
    "        self.student_id = student_id"
   ]
  },
  {
   "cell_type": "code",
   "execution_count": 42,
   "id": "8eea5d2f",
   "metadata": {},
   "outputs": [
    {
     "name": "stdout",
     "output_type": "stream",
     "text": [
      "Person 호출..?\n"
     ]
    }
   ],
   "source": [
    "s1 = Student('영주', 26, '20220101')"
   ]
  },
  {
   "cell_type": "code",
   "execution_count": 39,
   "id": "b3f91358",
   "metadata": {},
   "outputs": [
    {
     "data": {
      "text/plain": [
       "'영주'"
      ]
     },
     "execution_count": 39,
     "metadata": {},
     "output_type": "execute_result"
    }
   ],
   "source": [
    "s1.name"
   ]
  },
  {
   "cell_type": "code",
   "execution_count": 40,
   "id": "cf35b019",
   "metadata": {},
   "outputs": [
    {
     "data": {
      "text/plain": [
       "26"
      ]
     },
     "execution_count": 40,
     "metadata": {},
     "output_type": "execute_result"
    }
   ],
   "source": [
    "s1.age"
   ]
  },
  {
   "cell_type": "markdown",
   "id": "ab346242",
   "metadata": {},
   "source": [
    "## 상속, 클래스메서드"
   ]
  },
  {
   "cell_type": "code",
   "execution_count": 60,
   "id": "12238160",
   "metadata": {},
   "outputs": [],
   "source": [
    "class Person:\n",
    "    population = 0\n",
    "    \n",
    "    @staticmethod\n",
    "    def add_population():\n",
    "        Person.population += 1"
   ]
  },
  {
   "cell_type": "code",
   "execution_count": 64,
   "id": "9db6d48e",
   "metadata": {},
   "outputs": [
    {
     "name": "stdout",
     "output_type": "stream",
     "text": [
      "3\n"
     ]
    }
   ],
   "source": [
    "Person.add_population()\n",
    "print(Person.population)"
   ]
  },
  {
   "cell_type": "code",
   "execution_count": 65,
   "id": "162d4113",
   "metadata": {},
   "outputs": [],
   "source": [
    "class Student(Person):\n",
    "    population = 0"
   ]
  },
  {
   "cell_type": "code",
   "execution_count": 76,
   "id": "fffe4fdd",
   "metadata": {},
   "outputs": [
    {
     "name": "stdout",
     "output_type": "stream",
     "text": [
      "0\n"
     ]
    }
   ],
   "source": [
    "Student.add_population()\n",
    "print(Student.population)"
   ]
  },
  {
   "cell_type": "code",
   "execution_count": 77,
   "id": "d8fb9164",
   "metadata": {},
   "outputs": [
    {
     "name": "stdout",
     "output_type": "stream",
     "text": [
      "1\n",
      "1\n"
     ]
    }
   ],
   "source": [
    "class Person:\n",
    "    population = 0\n",
    "    \n",
    "    @classmethod\n",
    "    def add_population(cls):\n",
    "        cls.population += 1\n",
    "        \n",
    "class Student(Person):\n",
    "    population = 0\n",
    "    \n",
    "Person.add_population()\n",
    "print(Person.population)\n",
    "\n",
    "Student.add_population()\n",
    "print(Student.population)"
   ]
  },
  {
   "cell_type": "code",
   "execution_count": 78,
   "id": "f71f3885",
   "metadata": {},
   "outputs": [
    {
     "name": "stdout",
     "output_type": "stream",
     "text": [
      "2\n",
      "2\n"
     ]
    }
   ],
   "source": [
    "Person.add_population()\n",
    "print(Person.population)\n",
    "\n",
    "Student.add_population()\n",
    "print(Student.population)"
   ]
  },
  {
   "cell_type": "code",
   "execution_count": 79,
   "id": "33e831f6",
   "metadata": {},
   "outputs": [],
   "source": [
    "class A:\n",
    "    name = 'A'\n",
    "\n",
    "class B(A):\n",
    "    name = 'B'\n",
    "\n",
    "class C(A):\n",
    "    name = 'C'\n",
    "    \n",
    "class D(B, C):\n",
    "    pass"
   ]
  },
  {
   "cell_type": "markdown",
   "id": "fef1b5df",
   "metadata": {},
   "source": [
    "## 캡슐화 "
   ]
  },
  {
   "cell_type": "code",
   "execution_count": 80,
   "id": "25bb072b",
   "metadata": {},
   "outputs": [],
   "source": [
    "class Person:\n",
    "    pass"
   ]
  },
  {
   "cell_type": "code",
   "execution_count": 81,
   "id": "ab06c4c0",
   "metadata": {},
   "outputs": [],
   "source": [
    "p1 = Person()"
   ]
  },
  {
   "cell_type": "code",
   "execution_count": 82,
   "id": "73886608",
   "metadata": {},
   "outputs": [],
   "source": [
    "p1.name = '원우'"
   ]
  },
  {
   "cell_type": "code",
   "execution_count": 84,
   "id": "c7aeb7d0",
   "metadata": {},
   "outputs": [
    {
     "data": {
      "text/plain": [
       "'원우'"
      ]
     },
     "execution_count": 84,
     "metadata": {},
     "output_type": "execute_result"
    }
   ],
   "source": [
    "p1.name"
   ]
  },
  {
   "cell_type": "code",
   "execution_count": 86,
   "id": "97151bd8",
   "metadata": {},
   "outputs": [],
   "source": [
    "class Person:\n",
    "    \n",
    "    def get_name(self):\n",
    "        return self.name\n",
    "    \n",
    "    def set_name(self, name):\n",
    "        self.name = name"
   ]
  },
  {
   "cell_type": "code",
   "execution_count": 88,
   "id": "95afaac6",
   "metadata": {},
   "outputs": [],
   "source": [
    "p2 = Person()\n",
    "p2.set_name('용래')"
   ]
  },
  {
   "cell_type": "code",
   "execution_count": 90,
   "id": "ae210339",
   "metadata": {},
   "outputs": [
    {
     "data": {
      "text/plain": [
       "'용래'"
      ]
     },
     "execution_count": 90,
     "metadata": {},
     "output_type": "execute_result"
    }
   ],
   "source": [
    "p2.get_name()"
   ]
  },
  {
   "cell_type": "code",
   "execution_count": 91,
   "id": "79524a40",
   "metadata": {},
   "outputs": [],
   "source": [
    "class Person:\n",
    "    \n",
    "    def __init__(self, name, age):\n",
    "        self.name = name\n",
    "        self._age = age\n",
    "    \n",
    "    def get_age(self):\n",
    "        return self._age"
   ]
  },
  {
   "cell_type": "code",
   "execution_count": 92,
   "id": "0b4f1bac",
   "metadata": {},
   "outputs": [],
   "source": [
    "p1 = Person('송지', 23)"
   ]
  },
  {
   "cell_type": "code",
   "execution_count": 93,
   "id": "2e166c7c",
   "metadata": {},
   "outputs": [
    {
     "data": {
      "text/plain": [
       "23"
      ]
     },
     "execution_count": 93,
     "metadata": {},
     "output_type": "execute_result"
    }
   ],
   "source": [
    "p1._age"
   ]
  },
  {
   "cell_type": "code",
   "execution_count": 100,
   "id": "4450cec2",
   "metadata": {},
   "outputs": [
    {
     "name": "stdout",
     "output_type": "stream",
     "text": [
      "123\n",
      "522\n",
      "3\n"
     ]
    }
   ],
   "source": [
    "a = [123, 522, 3]\n",
    "\n",
    "for elem in a:\n",
    "    print(elem)"
   ]
  },
  {
   "cell_type": "code",
   "execution_count": 99,
   "id": "db071285",
   "metadata": {},
   "outputs": [
    {
     "name": "stdout",
     "output_type": "stream",
     "text": [
      "0\n",
      "1\n",
      "2\n"
     ]
    }
   ],
   "source": [
    "for i in range(len(a)):\n",
    "    print(i)"
   ]
  },
  {
   "cell_type": "code",
   "execution_count": 101,
   "id": "56a21411",
   "metadata": {},
   "outputs": [],
   "source": [
    "class Person:\n",
    "    \n",
    "    def __init__(self, name, age):\n",
    "        self.name = name\n",
    "        self.__age = age\n",
    "    \n",
    "    def get_age(self):\n",
    "        return self.__age"
   ]
  },
  {
   "cell_type": "code",
   "execution_count": 102,
   "id": "a4c8f42c",
   "metadata": {},
   "outputs": [],
   "source": [
    "p1 = Person('재영', 30)"
   ]
  },
  {
   "cell_type": "code",
   "execution_count": 103,
   "id": "7e23bbfc",
   "metadata": {},
   "outputs": [
    {
     "ename": "AttributeError",
     "evalue": "'Person' object has no attribute '__age'",
     "output_type": "error",
     "traceback": [
      "\u001b[1;31m-------------------------------------------------------------------\u001b[0m",
      "\u001b[1;31mAttributeError\u001b[0m                    Traceback (most recent call last)",
      "Input \u001b[1;32mIn [103]\u001b[0m, in \u001b[0;36m<module>\u001b[1;34m\u001b[0m\n\u001b[1;32m----> 1\u001b[0m \u001b[43mp1\u001b[49m\u001b[38;5;241;43m.\u001b[39;49m\u001b[43m__age\u001b[49m\n",
      "\u001b[1;31mAttributeError\u001b[0m: 'Person' object has no attribute '__age'"
     ]
    }
   ],
   "source": [
    "p1.__age"
   ]
  },
  {
   "cell_type": "code",
   "execution_count": 104,
   "id": "08fae996",
   "metadata": {},
   "outputs": [
    {
     "data": {
      "text/plain": [
       "30"
      ]
     },
     "execution_count": 104,
     "metadata": {},
     "output_type": "execute_result"
    }
   ],
   "source": [
    "p1.get_age()"
   ]
  },
  {
   "cell_type": "code",
   "execution_count": 105,
   "id": "aca10742",
   "metadata": {},
   "outputs": [
    {
     "data": {
      "text/plain": [
       "['_Person__age',\n",
       " '__class__',\n",
       " '__delattr__',\n",
       " '__dict__',\n",
       " '__dir__',\n",
       " '__doc__',\n",
       " '__eq__',\n",
       " '__format__',\n",
       " '__ge__',\n",
       " '__getattribute__',\n",
       " '__gt__',\n",
       " '__hash__',\n",
       " '__init__',\n",
       " '__init_subclass__',\n",
       " '__le__',\n",
       " '__lt__',\n",
       " '__module__',\n",
       " '__ne__',\n",
       " '__new__',\n",
       " '__reduce__',\n",
       " '__reduce_ex__',\n",
       " '__repr__',\n",
       " '__setattr__',\n",
       " '__sizeof__',\n",
       " '__str__',\n",
       " '__subclasshook__',\n",
       " '__weakref__',\n",
       " 'get_age',\n",
       " 'name']"
      ]
     },
     "execution_count": 105,
     "metadata": {},
     "output_type": "execute_result"
    }
   ],
   "source": [
    "dir(p1)"
   ]
  },
  {
   "cell_type": "code",
   "execution_count": 107,
   "id": "847276d6",
   "metadata": {},
   "outputs": [],
   "source": [
    "class Person:\n",
    "    \n",
    "    def __init__(self, age):\n",
    "        self._age = age\n",
    "        \n",
    "    @property\n",
    "    def age(self):\n",
    "        return self._age"
   ]
  },
  {
   "cell_type": "code",
   "execution_count": 108,
   "id": "06a54864",
   "metadata": {},
   "outputs": [],
   "source": [
    "p1 = Person(10)"
   ]
  },
  {
   "cell_type": "code",
   "execution_count": 109,
   "id": "e672d531",
   "metadata": {},
   "outputs": [
    {
     "ename": "TypeError",
     "evalue": "'int' object is not callable",
     "output_type": "error",
     "traceback": [
      "\u001b[1;31m-------------------------------------------------------------------\u001b[0m",
      "\u001b[1;31mTypeError\u001b[0m                         Traceback (most recent call last)",
      "Input \u001b[1;32mIn [109]\u001b[0m, in \u001b[0;36m<module>\u001b[1;34m\u001b[0m\n\u001b[1;32m----> 1\u001b[0m \u001b[43mp1\u001b[49m\u001b[38;5;241;43m.\u001b[39;49m\u001b[43mage\u001b[49m\u001b[43m(\u001b[49m\u001b[43m)\u001b[49m\n",
      "\u001b[1;31mTypeError\u001b[0m: 'int' object is not callable"
     ]
    }
   ],
   "source": [
    "p1.age()"
   ]
  },
  {
   "cell_type": "code",
   "execution_count": 110,
   "id": "30c6d318",
   "metadata": {},
   "outputs": [
    {
     "data": {
      "text/plain": [
       "10"
      ]
     },
     "execution_count": 110,
     "metadata": {},
     "output_type": "execute_result"
    }
   ],
   "source": [
    "p1.age # 메서드를 정의했는데 속성처럼 쓰도록 한다!"
   ]
  },
  {
   "cell_type": "code",
   "execution_count": 125,
   "id": "dd94aa3b",
   "metadata": {},
   "outputs": [],
   "source": [
    "class Person:\n",
    "    \n",
    "    def __init__(self, age):\n",
    "        self._age = age\n",
    "        \n",
    "    @property\n",
    "    def age(self):\n",
    "        return self._age\n",
    "    \n",
    "    @age.setter\n",
    "    def age(self, new_age):\n",
    "        self._age = new_age - 10"
   ]
  },
  {
   "cell_type": "code",
   "execution_count": 123,
   "id": "049c4e57",
   "metadata": {},
   "outputs": [],
   "source": [
    "p1 = Person(40)"
   ]
  },
  {
   "cell_type": "code",
   "execution_count": 124,
   "id": "fa6769ff",
   "metadata": {},
   "outputs": [
    {
     "data": {
      "text/plain": [
       "40"
      ]
     },
     "execution_count": 124,
     "metadata": {},
     "output_type": "execute_result"
    }
   ],
   "source": [
    "p1.age"
   ]
  },
  {
   "cell_type": "code",
   "execution_count": 126,
   "id": "d066bdc9",
   "metadata": {},
   "outputs": [
    {
     "name": "stdout",
     "output_type": "stream",
     "text": [
      "Help on class staticmethod in module builtins:\n",
      "\n",
      "class staticmethod(object)\n",
      " |  staticmethod(function) -> method\n",
      " |  \n",
      " |  Convert a function to be a static method.\n",
      " |  \n",
      " |  A static method does not receive an implicit first argument.\n",
      " |  To declare a static method, use this idiom:\n",
      " |  \n",
      " |       class C:\n",
      " |           @staticmethod\n",
      " |           def f(arg1, arg2, ...):\n",
      " |               ...\n",
      " |  \n",
      " |  It can be called either on the class (e.g. C.f()) or on an instance\n",
      " |  (e.g. C().f()). Both the class and the instance are ignored, and\n",
      " |  neither is passed implicitly as the first argument to the method.\n",
      " |  \n",
      " |  Static methods in Python are similar to those found in Java or C++.\n",
      " |  For a more advanced concept, see the classmethod builtin.\n",
      " |  \n",
      " |  Methods defined here:\n",
      " |  \n",
      " |  __get__(self, instance, owner, /)\n",
      " |      Return an attribute of instance, which is of type owner.\n",
      " |  \n",
      " |  __init__(self, /, *args, **kwargs)\n",
      " |      Initialize self.  See help(type(self)) for accurate signature.\n",
      " |  \n",
      " |  ----------------------------------------------------------------------\n",
      " |  Static methods defined here:\n",
      " |  \n",
      " |  __new__(*args, **kwargs) from builtins.type\n",
      " |      Create and return a new object.  See help(type) for accurate signature.\n",
      " |  \n",
      " |  ----------------------------------------------------------------------\n",
      " |  Data descriptors defined here:\n",
      " |  \n",
      " |  __dict__\n",
      " |  \n",
      " |  __func__\n",
      " |  \n",
      " |  __isabstractmethod__\n",
      "\n"
     ]
    }
   ],
   "source": [
    "help(staticmethod)"
   ]
  },
  {
   "cell_type": "code",
   "execution_count": 127,
   "id": "c48f08ae",
   "metadata": {},
   "outputs": [
    {
     "name": "stdout",
     "output_type": "stream",
     "text": [
      "Help on class classmethod in module builtins:\n",
      "\n",
      "class classmethod(object)\n",
      " |  classmethod(function) -> method\n",
      " |  \n",
      " |  Convert a function to be a class method.\n",
      " |  \n",
      " |  A class method receives the class as implicit first argument,\n",
      " |  just like an instance method receives the instance.\n",
      " |  To declare a class method, use this idiom:\n",
      " |  \n",
      " |    class C:\n",
      " |        @classmethod\n",
      " |        def f(cls, arg1, arg2, ...):\n",
      " |            ...\n",
      " |  \n",
      " |  It can be called either on the class (e.g. C.f()) or on an instance\n",
      " |  (e.g. C().f()).  The instance is ignored except for its class.\n",
      " |  If a class method is called for a derived class, the derived class\n",
      " |  object is passed as the implied first argument.\n",
      " |  \n",
      " |  Class methods are different than C++ or Java static methods.\n",
      " |  If you want those, see the staticmethod builtin.\n",
      " |  \n",
      " |  Methods defined here:\n",
      " |  \n",
      " |  __get__(self, instance, owner, /)\n",
      " |      Return an attribute of instance, which is of type owner.\n",
      " |  \n",
      " |  __init__(self, /, *args, **kwargs)\n",
      " |      Initialize self.  See help(type(self)) for accurate signature.\n",
      " |  \n",
      " |  ----------------------------------------------------------------------\n",
      " |  Static methods defined here:\n",
      " |  \n",
      " |  __new__(*args, **kwargs) from builtins.type\n",
      " |      Create and return a new object.  See help(type) for accurate signature.\n",
      " |  \n",
      " |  ----------------------------------------------------------------------\n",
      " |  Data descriptors defined here:\n",
      " |  \n",
      " |  __dict__\n",
      " |  \n",
      " |  __func__\n",
      " |  \n",
      " |  __isabstractmethod__\n",
      "\n"
     ]
    }
   ],
   "source": [
    "help(classmethod)"
   ]
  },
  {
   "cell_type": "code",
   "execution_count": null,
   "id": "2419db89",
   "metadata": {},
   "outputs": [],
   "source": []
  }
 ],
 "metadata": {
  "kernelspec": {
   "display_name": "Python 3 (ipykernel)",
   "language": "python",
   "name": "python3"
  },
  "language_info": {
   "codemirror_mode": {
    "name": "ipython",
    "version": 3
   },
   "file_extension": ".py",
   "mimetype": "text/x-python",
   "name": "python",
   "nbconvert_exporter": "python",
   "pygments_lexer": "ipython3",
   "version": "3.9.9"
  }
 },
 "nbformat": 4,
 "nbformat_minor": 5
}
