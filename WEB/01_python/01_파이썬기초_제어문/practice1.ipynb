{
 "cells": [
  {
   "cell_type": "markdown",
   "metadata": {},
   "source": [
    "# Practice 1\n",
    "\n",
    "> 데이터 & 제어문"
   ]
  },
  {
   "cell_type": "markdown",
   "metadata": {},
   "source": [
    "## 개수 구하기\n",
    "\n",
    "> 주어진 리스트의 요소는 학생 이름으로 구성되어 있다. 학생들의 수를 출력하시오.\n",
    "\n",
    "---\n",
    "\n",
    "```\n",
    "[출력 예시]\n",
    "3\n",
    "```"
   ]
  },
  {
   "cell_type": "code",
   "execution_count": 1,
   "metadata": {
    "ExecuteTime": {
     "end_time": "2020-07-20T07:21:43.556594Z",
     "start_time": "2020-07-20T07:21:43.553351Z"
    }
   },
   "outputs": [],
   "source": [
    "students = ['김철수', '이영희', '조민지']\n",
    "\n",
    "# 아래에 코드를 작성하시오."
   ]
  },
  {
   "cell_type": "code",
   "execution_count": 2,
   "metadata": {},
   "outputs": [
    {
     "name": "stdout",
     "output_type": "stream",
     "text": [
      "3\n"
     ]
    }
   ],
   "source": [
    "#1. 첫 번째 방법 -> 내장 함수를 활용한다. \n",
    "print(len(students))"
   ]
  },
  {
   "cell_type": "code",
   "execution_count": 5,
   "metadata": {},
   "outputs": [
    {
     "name": "stdout",
     "output_type": "stream",
     "text": [
      "3\n"
     ]
    }
   ],
   "source": [
    "#2. 두 번째 방법 -> 내장 함수를 쓰지 않고 문제를 풀어보자!\n",
    "\n",
    "# len을 사용하지 않으면? 결국 students라는 리스트 내부의 요소를 반복을 통해 꺼내며 그때마다 꺼낸 횟수를 어딘가에 기록해야 한다.\n",
    "\n",
    "# 사람 수를 카운트 하기 위한 변수(종이)\n",
    "count = 0\n",
    "#1. students라는 리스트에 있는 요소를 하나씩 꺼내보자 -> 반복!\n",
    "for student in students:\n",
    "    count = count + 1 # count += 1 같은 표현\n",
    "    # print(student)\n",
    "    # print(count)\n",
    "print(count)"
   ]
  },
  {
   "cell_type": "code",
   "execution_count": 7,
   "metadata": {},
   "outputs": [
    {
     "name": "stdout",
     "output_type": "stream",
     "text": [
      "3\n"
     ]
    }
   ],
   "source": [
    "#3. 세 번째 방법 -> 조금 더 직관적으로 표현해보자!\n",
    "\n",
    "count = 0 \n",
    "for _ in range(len(students)):\n",
    "    # print(i)\n",
    "    count += 1\n",
    "print(count)"
   ]
  },
  {
   "cell_type": "markdown",
   "metadata": {},
   "source": [
    "## 득표수 구하기\n",
    "\n",
    "> 주어진 리스트는 반장 선거 투표 결과이다. 이영희의 총 득표수를 출력하시오.\n",
    "\n",
    "---\n",
    "\n",
    "```\n",
    "[출력 예시]\n",
    "4\n",
    "```"
   ]
  },
  {
   "cell_type": "code",
   "execution_count": 1,
   "metadata": {},
   "outputs": [],
   "source": [
    "students = ['이영희', '김철수', '이영희', '조민지', '김철수', '조민지', '이영희', '이영희']\n",
    "\n",
    "# 아래에 코드를 작성하시오."
   ]
  },
  {
   "cell_type": "code",
   "execution_count": 4,
   "metadata": {},
   "outputs": [
    {
     "name": "stdout",
     "output_type": "stream",
     "text": [
      "4\n"
     ]
    }
   ],
   "source": [
    "# 바를정을 특정 상황에만 그리자!\n",
    "\n",
    "#1. \n",
    "\n",
    "#3. 종이를 만들자 (변수 초기화)\n",
    "count = 0 \n",
    "#1. 바를정을 그리자! -> 반복을 통해 요소를 하나씩 꺼내면서!\n",
    "# while vs for -> for 선택한 이유는? 어차피 students라는 리스트 내부에 있는 모든 요소를 다 확인해야 하니까\n",
    "for student in students:\n",
    "    #2. 종이에 바를정 체크 -> 만약에 '이영희'라는 사람을 만나면 \n",
    "    if student == '이영희':\n",
    "        count = count + 1 # count += 1\n",
    "#4. 최종적으로 종이에 작성된 바를정 개수 체크 \n",
    "print(count)"
   ]
  },
  {
   "cell_type": "markdown",
   "metadata": {},
   "source": [
    "## 최댓값 구하기\n",
    "\n",
    "> 주어진 리스트의 요소 중에서 최댓값을 출력하시오.\n",
    "\n",
    "---\n",
    "```\n",
    "[출력 예시]\n",
    "22\n",
    "```"
   ]
  },
  {
   "cell_type": "code",
   "execution_count": 5,
   "metadata": {},
   "outputs": [],
   "source": [
    "numbers = [7, 10, 22, 4, 3, 17]\n",
    "\n",
    "# 아래에 코드를 작성하시오."
   ]
  },
  {
   "cell_type": "code",
   "execution_count": 6,
   "metadata": {},
   "outputs": [
    {
     "name": "stdout",
     "output_type": "stream",
     "text": [
      "22\n"
     ]
    }
   ],
   "source": [
    "#1. max -> Good!\n",
    "print(max(numbers))"
   ]
  },
  {
   "cell_type": "code",
   "execution_count": 9,
   "metadata": {},
   "outputs": [
    {
     "name": "stdout",
     "output_type": "stream",
     "text": [
      "22\n"
     ]
    }
   ],
   "source": [
    "#2. max를 쓰지 않고 풀 수는 없을까?? --> 알고리즘 파트 ...?\n",
    "\n",
    "# print(sorted(numbers)[-1])\n",
    "print(sorted(numbers)[len(numbers)-1])"
   ]
  },
  {
   "cell_type": "code",
   "execution_count": 11,
   "metadata": {},
   "outputs": [
    {
     "name": "stdout",
     "output_type": "stream",
     "text": [
      "22\n"
     ]
    }
   ],
   "source": [
    "#3. 또 다른 방법 없을까?\n",
    "\n",
    "#3. 비교 할 값을 하나 만들어보자\n",
    "max_num = 0\n",
    "#1. 일단 numbers라는 리스트 내부에 있는 숫자를 모두 꺼내오자\n",
    "for number in numbers:\n",
    "    # print(number)\n",
    "    #2. 현재 반복하는 숫자와 어떤 숫자를 비교해서 만약 현재 반복하는 수(number)가 최댓값보다(max_num) 크다면\n",
    "    if number > max_num:\n",
    "        #3. 최댓값이 갱신되어야 하니까 변경해주자!\n",
    "        max_num = number\n",
    "print(max_num)"
   ]
  },
  {
   "cell_type": "code",
   "execution_count": 12,
   "metadata": {},
   "outputs": [
    {
     "name": "stdout",
     "output_type": "stream",
     "text": [
      "-1\n"
     ]
    }
   ],
   "source": [
    "#4. 3번으로 문제를 풀 경우.... 예상되는 문제가 하나 있다..! -> 모든 수가 음수인 경우?\n",
    "\n",
    "numbers = [-1, -20, -3, -4]\n",
    "\n",
    "#3. 비교 할 값을 하나 만들어보자\n",
    "max_num = numbers[0]\n",
    "#1. 일단 numbers라는 리스트 내부에 있는 숫자를 모두 꺼내오자\n",
    "for number in numbers:\n",
    "    # print(number)\n",
    "    #2. 현재 반복하는 숫자와 어떤 숫자를 비교해서 만약 현재 반복하는 수(number)가 최댓값보다(max_num) 크다면\n",
    "    if number > max_num:\n",
    "        #3. 최댓값이 갱신되어야 하니까 변경해주자!\n",
    "        max_num = number\n",
    "print(max_num)"
   ]
  },
  {
   "cell_type": "markdown",
   "metadata": {},
   "source": [
    "## 최솟값 구하기\n",
    "\n",
    "> 주어진 리스트의 요소 중에서 최솟값을 출력하시오.\n",
    "---\n",
    "```\n",
    "[출력 예시]\n",
    "3\n",
    "```"
   ]
  },
  {
   "cell_type": "code",
   "execution_count": 1,
   "metadata": {},
   "outputs": [],
   "source": [
    "numbers = [7, 10, 22, 4, 3, 17]\n",
    "\n",
    "# 아래에 코드를 작성하시오.\n",
    "\n"
   ]
  },
  {
   "cell_type": "code",
   "execution_count": 3,
   "metadata": {},
   "outputs": [
    {
     "name": "stdout",
     "output_type": "stream",
     "text": [
      "3\n"
     ]
    }
   ],
   "source": [
    "numbers = [7, 10, 22, 4, 3, 17]\n",
    "\n",
    "# 1. min_value 초기화\n",
    "min_num = numbers[0]\n",
    "# 2. 주어진 숫자 리스트 순회\n",
    "for number in numbers:\n",
    "    # 3. 해당 숫자가 더 작으면,\n",
    "    if number < min_num:\n",
    "        # 4. 교체\n",
    "        min_num = number\n",
    "# 5. \n",
    "print(min_num)"
   ]
  },
  {
   "cell_type": "markdown",
   "metadata": {},
   "source": [
    "## 최댓값과 등장 횟수 구하기\n",
    "\n",
    "> 주어진 리스트의 요소 중에서 최댓값과 등장 횟수를 출력하시오.\n",
    "\n",
    "---\n",
    "\n",
    "```\n",
    "[출력 예시]\n",
    "22 3\n",
    "```"
   ]
  },
  {
   "cell_type": "code",
   "execution_count": 13,
   "metadata": {
    "ExecuteTime": {
     "end_time": "2020-07-20T07:14:08.319167Z",
     "start_time": "2020-07-20T07:14:08.316606Z"
    }
   },
   "outputs": [],
   "source": [
    "numbers = [7, 10, 22, 7, 22, 22]\n",
    "\n",
    "# 아래에 코드를 작성하시오."
   ]
  },
  {
   "cell_type": "code",
   "execution_count": 17,
   "metadata": {},
   "outputs": [
    {
     "name": "stdout",
     "output_type": "stream",
     "text": [
      "22\n",
      "3\n"
     ]
    }
   ],
   "source": [
    "max_num = numbers[0] # 최댓값 초기화\n",
    "max_cnt = 0  # 최댓값이 몇 번 등장 했는지 체크하는 변수\n",
    "\n",
    "#1. numbers라는 리스트에서 요소를 꺼내온다.\n",
    "for number in numbers:\n",
    "    #2-1. 만약 현재 숫자(number)가 max_num보다 크다면 --> 최댓값이 갱신\n",
    "    if number > max_num: \n",
    "        #3. number를 최댓값으로 바꿔주고 -> 이것만 하면 안됨!!\n",
    "        max_num = number\n",
    "        #4. 최댓값 개수를 1로 초기화\n",
    "        max_cnt = 1\n",
    "    #2-2. 만약 현재의 최댓값(max_num이 반복을 돌고있는 값(number)과 같은 경우는\n",
    "    elif number == max_num:\n",
    "        # 새롭게 값을 갱신하지 않고 max_cnt 값만 누적한다.\n",
    "        max_cnt += 1\n",
    "\n",
    "print(max_num)\n",
    "print(max_cnt)"
   ]
  },
  {
   "cell_type": "markdown",
   "metadata": {},
   "source": [
    "## 5의 개수 구하기\n",
    "\n",
    "> 주어진 리스트의 요소 중에서 5의 개수를 출력하시오.\n",
    "---\n",
    "```\n",
    "[출력 예시]\n",
    "3\n",
    "```"
   ]
  },
  {
   "cell_type": "code",
   "execution_count": 5,
   "metadata": {},
   "outputs": [],
   "source": [
    "numbers = [7, 17, 10, 5, 4, 3, 17, 5, 2, 5]"
   ]
  },
  {
   "cell_type": "code",
   "execution_count": 6,
   "metadata": {},
   "outputs": [
    {
     "name": "stdout",
     "output_type": "stream",
     "text": [
      "3\n"
     ]
    }
   ],
   "source": [
    "# 전체 리스트를 탐색하며,\n",
    "# 5일 때,\n",
    "# 카운트\n",
    "\n",
    "# 1. 0으로 카운트 초기화\n",
    "count_five = 0\n",
    "# 2. 주어진 숫자 리스트 순회\n",
    "for number in numbers:\n",
    "    #3. 숫자가 5이면,\n",
    "    if number == 5:\n",
    "        # 4. 카운트\n",
    "        count_five += 1\n",
    "# 5. \n",
    "print(count_five)"
   ]
  },
  {
   "cell_type": "markdown",
   "metadata": {},
   "source": [
    "## 'a'가 싫어\n",
    "\n",
    "\n",
    "> 입력으로 짧은 영단어 word가 주어질 때, 해당 단어에서 'a'를 모두 제거한 결과를 출력하시오.\n",
    "\n",
    "---\n",
    "```\n",
    "[입력 예시]\n",
    "apple\n",
    "\n",
    "[출력 예시]\n",
    "pple\n",
    "```"
   ]
  },
  {
   "cell_type": "code",
   "execution_count": 28,
   "metadata": {
    "scrolled": true
   },
   "outputs": [
    {
     "name": "stdout",
     "output_type": "stream",
     "text": [
      "apple\n"
     ]
    }
   ],
   "source": [
    "word = input()\n",
    "\n",
    "# 아래에 코드를 작성하시오."
   ]
  },
  {
   "cell_type": "code",
   "execution_count": 29,
   "metadata": {},
   "outputs": [
    {
     "name": "stdout",
     "output_type": "stream",
     "text": [
      "pple\n"
     ]
    }
   ],
   "source": [
    "#1. continue\n",
    "\n",
    "# 비어있는 문자열을 초기화 \n",
    "result = ''\n",
    "\n",
    "#1. word라는 단어에서 char라는 변수로 문자를 하나씩 꺼낸다.\n",
    "for char in word:\n",
    "    #2. 만약 char가 'a' 이면 or 'a'가 아니면\n",
    "    if char == 'a':\n",
    "        continue\n",
    "    # 문자를 새롭게 (이어붙여) 만들자\n",
    "    # result = result += char\n",
    "    result += char\n",
    "\n",
    "print(result)"
   ]
  },
  {
   "cell_type": "code",
   "execution_count": 30,
   "metadata": {},
   "outputs": [
    {
     "name": "stdout",
     "output_type": "stream",
     "text": [
      "\n"
     ]
    }
   ],
   "source": [
    "#1. break\n",
    "\n",
    "# 비어있는 문자열을 초기화 \n",
    "result = ''\n",
    "\n",
    "#1. word라는 단어에서 char라는 변수로 문자를 하나씩 꺼낸다.\n",
    "for char in word:\n",
    "    #2. 만약 char가 'a' 이면 or 'a'가 아니면\n",
    "    if char == 'a':\n",
    "        break\n",
    "    # 문자를 새롭게 (이어붙여) 만들자\n",
    "    # result = result += char\n",
    "    result += char\n",
    "\n",
    "print(result)"
   ]
  },
  {
   "cell_type": "code",
   "execution_count": 34,
   "metadata": {},
   "outputs": [
    {
     "name": "stdout",
     "output_type": "stream",
     "text": [
      "p\n",
      "p\n",
      "l\n",
      "e\n",
      "pple\n"
     ]
    }
   ],
   "source": [
    "#2.\n",
    "\n",
    "# 비어있는 문자열을 초기화 \n",
    "result = ''\n",
    "\n",
    "#1. word라는 단어에서 char라는 변수로 문자를 하나씩 꺼낸다.\n",
    "for char in word:\n",
    "    #2. 만약'a'가 아니면\n",
    "    if char != 'a':\n",
    "        print(char)\n",
    "        # 문자를 새롭게 (이어붙여) 만들자\n",
    "        # result = result += char\n",
    "        result += char\n",
    "\n",
    "print(result)"
   ]
  },
  {
   "cell_type": "code",
   "execution_count": 21,
   "metadata": {},
   "outputs": [
    {
     "data": {
      "text/plain": [
       "'abc'"
      ]
     },
     "execution_count": 21,
     "metadata": {},
     "output_type": "execute_result"
    }
   ],
   "source": [
    "'a' + 'b' + 'c'"
   ]
  },
  {
   "cell_type": "markdown",
   "metadata": {},
   "source": [
    "## 단어 뒤집기\n",
    "\n",
    "> 입력으로 짧은 영어단어 word가 주어질 때, 해당 단어를 역순으로 뒤집은 결과를 출력하시오.\n",
    "\n",
    "---\n",
    "```\n",
    "[입력 예시]\n",
    "apple\n",
    "\n",
    "[출력 예시]\n",
    "elppa\n",
    "```"
   ]
  },
  {
   "cell_type": "code",
   "execution_count": 35,
   "metadata": {},
   "outputs": [
    {
     "name": "stdout",
     "output_type": "stream",
     "text": [
      "apple\n"
     ]
    }
   ],
   "source": [
    "word = input()\n",
    "\n",
    "# 아래에 코드를 작성하시오."
   ]
  },
  {
   "cell_type": "code",
   "execution_count": 37,
   "metadata": {},
   "outputs": [
    {
     "name": "stdout",
     "output_type": "stream",
     "text": [
      "['e', 'l', 'p', 'p', 'a']\n"
     ]
    }
   ],
   "source": [
    "#1. reversed() / .reverse()\n",
    "\n",
    "# print(list(reversed(word))) # join()"
   ]
  },
  {
   "cell_type": "code",
   "execution_count": 38,
   "metadata": {},
   "outputs": [
    {
     "name": "stdout",
     "output_type": "stream",
     "text": [
      "elppa\n"
     ]
    }
   ],
   "source": [
    "#2. \n",
    "\n",
    "print(word[::-1])"
   ]
  },
  {
   "cell_type": "code",
   "execution_count": 43,
   "metadata": {},
   "outputs": [
    {
     "name": "stdout",
     "output_type": "stream",
     "text": [
      "elppa\n"
     ]
    }
   ],
   "source": [
    "#3. \n",
    "\n",
    "result = ''\n",
    "\n",
    "#1. word에서 문자열 char를 꺼내면서\n",
    "for char in word:\n",
    "    #2. result(초기화된 문자열 변수)에 붙인다! \n",
    "    result = char + result\n",
    "print(result)"
   ]
  },
  {
   "cell_type": "code",
   "execution_count": 45,
   "metadata": {},
   "outputs": [],
   "source": [
    "my_word1 = 'a' + 'b'\n",
    "my_word2 = 'b' + 'a'"
   ]
  },
  {
   "cell_type": "code",
   "execution_count": 46,
   "metadata": {},
   "outputs": [
    {
     "name": "stdout",
     "output_type": "stream",
     "text": [
      "ab\n",
      "ba\n"
     ]
    }
   ],
   "source": [
    "print(my_word1)\n",
    "print(my_word2)"
   ]
  },
  {
   "cell_type": "code",
   "execution_count": 39,
   "metadata": {},
   "outputs": [
    {
     "name": "stdout",
     "output_type": "stream",
     "text": [
      "u\n"
     ]
    }
   ],
   "source": [
    "my_word = 'justin'\n",
    "\n",
    "print(my_word[1])"
   ]
  },
  {
   "cell_type": "code",
   "execution_count": 40,
   "metadata": {
    "scrolled": true
   },
   "outputs": [
    {
     "ename": "TypeError",
     "evalue": "'str' object does not support item assignment",
     "output_type": "error",
     "traceback": [
      "\u001b[1;31m---------------------------------------------------------------------------\u001b[0m",
      "\u001b[1;31mTypeError\u001b[0m                                 Traceback (most recent call last)",
      "\u001b[1;32mC:\\Users\\EDUJU~1.JUS\\AppData\\Local\\Temp/ipykernel_16240/2309605926.py\u001b[0m in \u001b[0;36m<module>\u001b[1;34m\u001b[0m\n\u001b[1;32m----> 1\u001b[1;33m \u001b[0mmy_word\u001b[0m\u001b[1;33m[\u001b[0m\u001b[1;36m1\u001b[0m\u001b[1;33m]\u001b[0m \u001b[1;33m=\u001b[0m \u001b[1;34m'o'\u001b[0m\u001b[1;33m\u001b[0m\u001b[1;33m\u001b[0m\u001b[0m\n\u001b[0m",
      "\u001b[1;31mTypeError\u001b[0m: 'str' object does not support item assignment"
     ]
    }
   ],
   "source": [
    "my_word[1] = 'o'"
   ]
  },
  {
   "cell_type": "code",
   "execution_count": 41,
   "metadata": {},
   "outputs": [
    {
     "name": "stdout",
     "output_type": "stream",
     "text": [
      "1\n"
     ]
    }
   ],
   "source": [
    "my_list = [1, 2, 3]\n",
    "print(my_list[0])"
   ]
  },
  {
   "cell_type": "code",
   "execution_count": 42,
   "metadata": {},
   "outputs": [
    {
     "name": "stdout",
     "output_type": "stream",
     "text": [
      "[66, 2, 3]\n"
     ]
    }
   ],
   "source": [
    "my_list[0] = 66\n",
    "print(my_list)"
   ]
  }
 ],
 "metadata": {
  "kernelspec": {
   "display_name": "Python 3 (ipykernel)",
   "language": "python",
   "name": "python3"
  },
  "language_info": {
   "codemirror_mode": {
    "name": "ipython",
    "version": 3
   },
   "file_extension": ".py",
   "mimetype": "text/x-python",
   "name": "python",
   "nbconvert_exporter": "python",
   "pygments_lexer": "ipython3",
   "version": "3.9.9"
  },
  "toc": {
   "base_numbering": 1,
   "nav_menu": {},
   "number_sections": true,
   "sideBar": true,
   "skip_h1_title": false,
   "title_cell": "Table of Contents",
   "title_sidebar": "Contents",
   "toc_cell": false,
   "toc_position": {},
   "toc_section_display": true,
   "toc_window_display": false
  }
 },
 "nbformat": 4,
 "nbformat_minor": 4
}
