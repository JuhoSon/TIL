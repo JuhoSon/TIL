{
 "cells": [
  {
   "cell_type": "markdown",
   "metadata": {},
   "source": [
    "# Practice 2\n",
    "\n",
    "> 함수"
   ]
  },
  {
   "cell_type": "markdown",
   "metadata": {},
   "source": [
    "## 불쌍한 달팽이\n",
    "\n",
    "> 달팽이는 낮 시간 동안에 기둥을 올라간다. 하지만 밤에는 잠을 자면서 어느 정도의 거리만큼 미끄러진다. (낮 시간 동안 올라간 거리보다는 적게 미끄러진다.)\n",
    "> \n",
    "> 달팽이가 기둥의 꼭대기에 도달하는 날까지 걸리는 시간을 반환하는 함수 `snail()`을 작성하시오.\n",
    "\n",
    "> 함수의 인자는 다음과 같다.\n",
    "1. 기둥의 높이(미터)\n",
    "2. 낮 시간 동안 달팽이가 올라가는 거리(미터)\n",
    "3. 달팽이가 야간에 잠을 자는 동안 미끄러지는 거리(미터)\n",
    "\n",
    "---\n",
    "\n",
    "예시)\n",
    "\n",
    "```python\n",
    "snail(100, 5, 2) #=> 33\n",
    "```"
   ]
  },
  {
   "cell_type": "code",
   "execution_count": 1,
   "metadata": {},
   "outputs": [],
   "source": [
    "'''\n",
    "중학교 수학문제\n",
    "count나 return문 위치에 따라 다른 답이 나올 수 있음!!\n",
    "'''\n",
    "\n",
    "# 아래의 코드에 주석을 달아보세요.\n",
    "def snail(height, day, night):\n",
    "    count = 0\n",
    "    # 계속 반복을 돌리면서 \n",
    "    while True:\n",
    "        # 일단 하루 카운트\n",
    "        count += 1\n",
    "        # 낮 동안 올라간 만큼 차감\n",
    "        height -= day\n",
    "        # 만약 다 올라갔다면\n",
    "        if height <= 0:\n",
    "            # 바로 반환\n",
    "            return count\n",
    "        # 다 올라가지 못했다면 밤에 미끄러진 만큼 더해주자\n",
    "        height += night"
   ]
  },
  {
   "cell_type": "code",
   "execution_count": 2,
   "metadata": {},
   "outputs": [
    {
     "name": "stdout",
     "output_type": "stream",
     "text": [
      "33\n"
     ]
    }
   ],
   "source": [
    "# 해당 코드를 통해 올바른 결과가 나오는지 확인하시오.\n",
    "print(snail(100, 5, 2))"
   ]
  },
  {
   "cell_type": "markdown",
   "metadata": {},
   "source": [
    "## 자릿수 더하기 (SWEA #2058)\n",
    "\n",
    "> 자연수 number를 입력 받아, 각 자릿수의 합을 계산하여 출력하시오.\n",
    "\n",
    "---\n",
    "\n",
    "예시)\n",
    "\n",
    "```python\n",
    "sum_of_digit(1234) #=> 10\n",
    "sum_of_digit(4321) #=> 10\n",
    "```"
   ]
  },
  {
   "cell_type": "code",
   "execution_count": 1,
   "metadata": {},
   "outputs": [],
   "source": [
    "# 고민 \n",
    "\n",
    "\"\"\"\n",
    "힌트) \n",
    "\n",
    "4321 -> 4*1000 + 3*100 + 2*10 + 1*1\n",
    "\n",
    "단계를 쪼개면?\n",
    "4321/10 -> 몫: 432 & 나머지: 1\n",
    "432/10 -> 몫: 43 & 나머지 2\n",
    "43/10 -> 몫: 4 & 나머지 3\n",
    "4/10 -> 몫: 0 & 나머지 4\n",
    "\n",
    "\"\"\"\n",
    "\n",
    "def sum_of_digit(number):\n",
    "    # 반복문 선택 -> for / while\n",
    "    \n",
    "    # 최종 결과 \n",
    "    total_sum = 0\n",
    "    while number / 10: # 몫이 0이 될 때까지 어떠한 행동을 반복하자!\n",
    "        # 계속 자릿수를 만들어 \n",
    "        remainder = number % 10  # 나머지\n",
    "        number = number // 10 # 몫\n",
    "        # 더해주는 작업\n",
    "        total_sum += remainder\n",
    "    return total_sum\n",
    "\n",
    "\"\"\"\n",
    "str(number)\n",
    "\"\"\""
   ]
  },
  {
   "cell_type": "code",
   "execution_count": 2,
   "metadata": {},
   "outputs": [
    {
     "name": "stdout",
     "output_type": "stream",
     "text": [
      "10\n",
      "10\n"
     ]
    }
   ],
   "source": [
    "# 해당 코드를 통해 올바른 결과가 나오는지 확인하시오.\n",
    "print(sum_of_digit(1234))\n",
    "print(sum_of_digit(4321))"
   ]
  }
 ],
 "metadata": {
  "kernelspec": {
   "display_name": "Python 3 (ipykernel)",
   "language": "python",
   "name": "python3"
  },
  "language_info": {
   "codemirror_mode": {
    "name": "ipython",
    "version": 3
   },
   "file_extension": ".py",
   "mimetype": "text/x-python",
   "name": "python",
   "nbconvert_exporter": "python",
   "pygments_lexer": "ipython3",
   "version": "3.9.9"
  },
  "toc": {
   "base_numbering": 1,
   "nav_menu": {},
   "number_sections": true,
   "sideBar": true,
   "skip_h1_title": false,
   "title_cell": "Table of Contents",
   "title_sidebar": "Contents",
   "toc_cell": false,
   "toc_position": {},
   "toc_section_display": true,
   "toc_window_display": false
  }
 },
 "nbformat": 4,
 "nbformat_minor": 4
}
