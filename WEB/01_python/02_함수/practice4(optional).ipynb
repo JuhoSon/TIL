{
 "cells": [
  {
   "cell_type": "markdown",
   "id": "eee87827",
   "metadata": {},
   "source": [
    "# Practice 4(optional)\n",
    "> 복잡한 자료구조의 (2차원 리스트) 반복문\n",
    "\n",
    "- 핵심은 어떻게 바깥 리스트와 안쪽 리스트의 값에 접근 할 수 있는지 파악하는 것 \n",
    "- 원리만 알면 어렵지 않게 해볼 수 있다!"
   ]
  },
  {
   "cell_type": "markdown",
   "id": "ddb92136",
   "metadata": {},
   "source": [
    "## 복잡한 리스트의 합\n",
    "\n",
    "> 2차원 리스트를 반복하는 방법을 알아봅시다. \n",
    "\n",
    "\n",
    "* 주어진 아래의 리스트를 반복하여 숫자의 합을 반환하시오.\n",
    "\n",
    "---\n",
    "**예시 입력**\n",
    "\n",
    "```python\n",
    "numbers = [\n",
    "    [1, 4],\n",
    "    [10, 5],\n",
    "    [20, 30]    \n",
    "]\n",
    "\n",
    "```\n",
    "\n",
    "**예시 출력**\n",
    "```python\n",
    "sum_list([[1, 4], [10, 5], [20, 30]]) # 70\n",
    "```"
   ]
  },
  {
   "cell_type": "markdown",
   "id": "4a61977e",
   "metadata": {},
   "source": [
    "### for 문을 활용하여 풀이하기\n",
    "\n",
    "```python\n",
    "for element in list:\n",
    "```"
   ]
  },
  {
   "cell_type": "code",
   "execution_count": 1,
   "id": "00ebd482",
   "metadata": {},
   "outputs": [],
   "source": [
    "# 아래에 코드를 작성하세요.\n",
    "def sum_list(numbers):\n",
    "    # 값을 초기화하자\n",
    "    result = 0\n",
    "    for number in numbers:\n",
    "        # print(number)\n",
    "        for n in number:\n",
    "            # print(n)\n",
    "            # 아 이제 초기화 변수에 꺼낸 요소를 전부 더하자!\n",
    "            result += n\n",
    "    return result"
   ]
  },
  {
   "cell_type": "code",
   "execution_count": 2,
   "id": "8630e9c4",
   "metadata": {},
   "outputs": [
    {
     "name": "stdout",
     "output_type": "stream",
     "text": [
      "70\n"
     ]
    }
   ],
   "source": [
    "print(sum_list([[1, 4], [10, 5], [20, 30]]))"
   ]
  },
  {
   "cell_type": "markdown",
   "id": "1a65eea5",
   "metadata": {},
   "source": [
    "### Index로 접근하여 풀이하기\n",
    "\n",
    "```python\n",
    "for element in range(len(list)):\n",
    "```"
   ]
  },
  {
   "cell_type": "code",
   "execution_count": 3,
   "id": "b314acfb",
   "metadata": {},
   "outputs": [],
   "source": [
    "# 아래에 코드를 작성하세요.\n",
    "def sum_list_index(numbers):\n",
    "    result = 0\n",
    "    # 외부 리스트의 크기 만큼 반복 -> 3\n",
    "    for i in range(len(numbers)):\n",
    "        # print(i)\n",
    "        # 내부 리스트의 크기에 접근 하려면..?\n",
    "        for j in range(len(numbers[i])):\n",
    "            # print(j)\n",
    "            # 이제 우리는... 실제 값에 접근해서 그 값을 초기화된 변수에 더하기만 하면 된당!!\n",
    "            # print(numbers[i][j])\n",
    "            result += numbers[i][j]\n",
    "    return result"
   ]
  },
  {
   "cell_type": "code",
   "execution_count": 4,
   "id": "e618dc9f",
   "metadata": {},
   "outputs": [
    {
     "name": "stdout",
     "output_type": "stream",
     "text": [
      "70\n"
     ]
    }
   ],
   "source": [
    "print(sum_list_index([[1, 4], [10, 5], [20, 30]]))"
   ]
  },
  {
   "cell_type": "markdown",
   "id": "5cb9008a",
   "metadata": {},
   "source": [
    "### while 문을 활용하여 풀이하기\n",
    "\n",
    "```python\n",
    "while ____:\n",
    "```\n",
    "\n",
    "- 결국 핵심 포인트는 for에서 알아서 뽑혔던 index 값을 우리가 직접 만들어 줘야 한다는 사실\n",
    "- for & while을 통해서 구현한 합과 곱에 대한 문제를 떠올려보면 의외로 쉽게 접근할 수 있다. \n",
    "- 우리는 왜 for보다 while을 어려워 하는가? \n",
    "    - 결국, 어떠한 로직에 의해 알아서 해주는 것(index를 가져오는 행위)을 우리가 직접 하는 과정이 필요하기 때문이고 이에 대한 연습이 부족하기 때문이다. \n",
    "    - 이는 '어려운 것'이 아닌 '익숙하지 않음'의 영역이다!"
   ]
  },
  {
   "cell_type": "code",
   "execution_count": 5,
   "id": "7cccc84e",
   "metadata": {},
   "outputs": [],
   "source": [
    "# 아래에 코드를 작성하세요.\n",
    "def sum_list_while(numbers):\n",
    "    # 더할 값을 초기화\n",
    "    result = 0\n",
    "    \n",
    "    # 외부 리스트의 길이\n",
    "    i = 0 \n",
    "    # 마치 n-1을 하듯 numbers 리스트의 크기 전까지 반복을 수행한다. \n",
    "    while i < len(numbers):\n",
    "        # 내부 리스트의 길이 \n",
    "        j = 0\n",
    "        while j < len(numbers[i]):\n",
    "            # 내부 요소를 j번 만큼 반복을 돌자!! \n",
    "            # print(numbers[i][j])\n",
    "            result += numbers[i][j]\n",
    "            # 이 반복이 끝나면 내부 리스트의 길이를 +1 증가 시켜준다. \n",
    "            # 이후에 이 반복이 끝나면\n",
    "            j += 1\n",
    "        # 외부 리스트의 길이도 +1 증가 시켜주어야 한다. 이 작업을 하지 않은 경우? 반복문은 무한히 돌아가게 될 것!\n",
    "        i += 1\n",
    "    return result"
   ]
  },
  {
   "cell_type": "code",
   "execution_count": 6,
   "id": "71971dbb",
   "metadata": {},
   "outputs": [
    {
     "name": "stdout",
     "output_type": "stream",
     "text": [
      "70\n"
     ]
    }
   ],
   "source": [
    "print(sum_list_while([[1, 4], [10, 5], [20, 30]]))"
   ]
  },
  {
   "cell_type": "markdown",
   "id": "be1d8065",
   "metadata": {},
   "source": [
    "## 시험 점수\n",
    "\n",
    "> 2차원 배열\n",
    "\n",
    "\n",
    "* A반 학생들의 점수는 아래와 같고, students 리스트에 저장되어 있다.\n",
    "\n",
    "    * A학생(국어 100점, 수학 80점, 영어 100점)\n",
    "    * B학생(국어 90점, 수학 90점, 영어 60점)\n",
    "    * C학생(국어 80점, 수학 80점, 영어 80점)\n",
    "\n",
    "```python\n",
    "students = [\n",
    " [100, 80, 100],\n",
    " [90, 90, 60],\n",
    " [80, 80, 80]\n",
    "]\n",
    "```"
   ]
  },
  {
   "cell_type": "markdown",
   "id": "280782d8",
   "metadata": {},
   "source": [
    "### 학생별 출력\n",
    "\n",
    "* 아래의 리스트를 반복하여 **학생별 총합**을 순서대로 `출력`하시오.\n",
    "\n",
    "* `sum` 함수 사용 금지\n",
    "\n",
    "---\n",
    "**예시 입력**\n",
    "\n",
    "```python\n",
    "students = [\n",
    " [100, 80, 100],\n",
    " [90, 90, 60],\n",
    " [80, 80, 80]\n",
    "]\n",
    "```\n",
    "\n",
    "**예시 출력**\n",
    "```\n",
    "280\n",
    "240\n",
    "240\n",
    "```"
   ]
  },
  {
   "cell_type": "code",
   "execution_count": 8,
   "id": "b4886228",
   "metadata": {},
   "outputs": [],
   "source": [
    "students = [\n",
    " [100, 80, 100],\n",
    " [90, 90, 60],\n",
    " [80, 80, 80]\n",
    "]"
   ]
  },
  {
   "cell_type": "code",
   "execution_count": null,
   "id": "75df46f8",
   "metadata": {},
   "outputs": [],
   "source": [
    "# 아래에 풀이를 작성하세요. 함수 정의는 필요없습니다."
   ]
  },
  {
   "cell_type": "code",
   "execution_count": 9,
   "id": "e4c2b085",
   "metadata": {},
   "outputs": [
    {
     "name": "stdout",
     "output_type": "stream",
     "text": [
      "280\n",
      "240\n",
      "240\n"
     ]
    }
   ],
   "source": [
    "# 단순 for - 윽!\n",
    "\n",
    "for student in students:\n",
    "    # print(student)\n",
    "    # student -> 큰 리스트 내의 작은 리스트 목록 \n",
    "    print(sum(student))"
   ]
  },
  {
   "cell_type": "code",
   "execution_count": 10,
   "id": "04bd74c2",
   "metadata": {},
   "outputs": [
    {
     "name": "stdout",
     "output_type": "stream",
     "text": [
      "280\n",
      "240\n",
      "240\n"
     ]
    }
   ],
   "source": [
    "# 단순 for + sum -> 윽윽!\n",
    "\n",
    "for student in students:\n",
    "    result = 0\n",
    "    \n",
    "    for score in student:\n",
    "        result += score\n",
    "\n",
    "    print(result)"
   ]
  },
  {
   "cell_type": "code",
   "execution_count": 11,
   "id": "1e66cdbb",
   "metadata": {},
   "outputs": [
    {
     "name": "stdout",
     "output_type": "stream",
     "text": [
      "280\n",
      "240\n",
      "240\n"
     ]
    }
   ],
   "source": [
    "# index 접근\n",
    "\n",
    "# 왜 result를 여기에 두면 안되는건가요? 안됩니다! 우리가 원하는 것은 행 우선 탐색으로 한 학생의 국/영/수 합을 구해야 합니다.\n",
    "# 바깥에 있다면? 모든 학생의 국/영/수 합이 구해지게 됩니다!\n",
    "# result = 0 \n",
    "for i in range(len(students)):\n",
    "    # print(i)\n",
    "    result = 0\n",
    "    for j in range(len(students[i])):\n",
    "        # print(i, j)\n",
    "        \"\"\"\n",
    "        0 0\n",
    "        0 1\n",
    "        0 2\n",
    "        1 0\n",
    "        1 1\n",
    "        1 2\n",
    "        2 0\n",
    "        2 1\n",
    "        2 2\n",
    "        \"\"\"\n",
    "        # print(students[i][j]) \n",
    "        # 초기화된 변수에 합산한다.\n",
    "        result += students[i][j]\n",
    "    print(result)"
   ]
  },
  {
   "cell_type": "markdown",
   "id": "f1cdca08",
   "metadata": {},
   "source": [
    "### 과목별 출력\n",
    "\n",
    "* 아래의 리스트를 반복하여 **과목별 총합**을 순서대로 `출력`하시오.\n",
    "* `sum` 함수 사용 금지\n",
    "\n",
    "---\n",
    "**예시 입력**\n",
    "\n",
    "```python\n",
    "students = [\n",
    " [100, 80, 100],\n",
    " [90, 90, 60],\n",
    " [80, 80, 80]\n",
    "]\n",
    "```\n",
    "\n",
    "**예시 출력**\n",
    "```\n",
    "270\n",
    "250\n",
    "240\n",
    "```"
   ]
  },
  {
   "cell_type": "code",
   "execution_count": 13,
   "id": "cc47a506",
   "metadata": {},
   "outputs": [],
   "source": [
    "students = [\n",
    " [100, 80, 100],\n",
    " [90, 90, 60],\n",
    " [80, 80, 80]\n",
    "]"
   ]
  },
  {
   "cell_type": "code",
   "execution_count": 14,
   "id": "aa54cac8",
   "metadata": {},
   "outputs": [
    {
     "name": "stdout",
     "output_type": "stream",
     "text": [
      "270\n",
      "250\n",
      "240\n"
     ]
    }
   ],
   "source": [
    "# 아래에 풀이를 작성하세요. 함수 정의는 필요없습니다.\n",
    "\n",
    "# result = 0 \n",
    "for i in range(len(students)):\n",
    "    # print(i)\n",
    "    result = 0\n",
    "    for j in range(len(students[i])):\n",
    "        # print(j, i)\n",
    "        \"\"\"\n",
    "        0 0\n",
    "        1 0\n",
    "        2 0\n",
    "        0 1\n",
    "        1 1\n",
    "        2 1\n",
    "        0 2\n",
    "        1 2\n",
    "        2 2\n",
    "        \"\"\"\n",
    "        # print(students[i][j]) \n",
    "        # 초기화된 변수에 합산한다.\n",
    "        result += students[j][i]\n",
    "    print(result)"
   ]
  },
  {
   "cell_type": "markdown",
   "id": "7b14d1e4",
   "metadata": {},
   "source": [
    "## List & Dict 조작 실습\n",
    "\n",
    "> 아래 코드를 기반으로 3개의 질문에 답하시오."
   ]
  },
  {
   "cell_type": "code",
   "execution_count": 15,
   "id": "b15d3fab",
   "metadata": {},
   "outputs": [],
   "source": [
    "movie = {\n",
    "    'movieInfo': {\n",
    "        'movieNm': '광해, 왕이 된 남자',\n",
    "        'movieNmEn': 'Masquerade',\n",
    "        'showTm': '131',\n",
    "        'prdtYear': '2012',\n",
    "        'openDt': '20120913',\n",
    "        'typeNm': '장편',\n",
    "        'nations': [{'nationNm': '한국'}],\n",
    "        'genres': [{'genreNm': '사극'}, {'genreNm': '드라마'}],\n",
    "        'directors': [{'peopleNm': '추창민', 'peopleNmEn': 'CHOO Chang-min'}],\n",
    "        'actors': [\n",
    "            {'peopleNm': '이병헌', 'peopleNmEn': 'LEE Byung-hun', 'cast': '광해/하선'},\n",
    "            {'peopleNm': '류승룡', 'peopleNmEn': 'RYU Seung-ryong', 'cast': '허균'},\n",
    "            {'peopleNm': '한효주', 'peopleNmEn': 'HAN Hyo-joo', 'cast': '중전'},\n",
    "        ],\n",
    "    }\n",
    "}"
   ]
  },
  {
   "cell_type": "code",
   "execution_count": 16,
   "id": "8bd86b24",
   "metadata": {},
   "outputs": [
    {
     "name": "stdout",
     "output_type": "stream",
     "text": [
      "이병헌\n"
     ]
    }
   ],
   "source": [
    "print(movie.get('movieInfo').get('actors')[0].get('peopleNm'))"
   ]
  },
  {
   "cell_type": "code",
   "execution_count": 17,
   "id": "9b5b1107",
   "metadata": {},
   "outputs": [
    {
     "name": "stdout",
     "output_type": "stream",
     "text": [
      "광해, 왕이 된 남자\n"
     ]
    }
   ],
   "source": [
    "# 1. 영화의 제목을 출력하시오.\n",
    "print(movie['movieInfo']['movieNm'])"
   ]
  },
  {
   "cell_type": "code",
   "execution_count": 18,
   "id": "b4466c1e",
   "metadata": {},
   "outputs": [
    {
     "name": "stdout",
     "output_type": "stream",
     "text": [
      "CHOO Chang-min\n"
     ]
    }
   ],
   "source": [
    "# 2. 다음 movie의 감독의 영어 이름을 출력하시오.\n",
    "print(movie['movieInfo']['directors'][0]['peopleNmEn'])"
   ]
  },
  {
   "cell_type": "code",
   "execution_count": 19,
   "id": "a501228d",
   "metadata": {},
   "outputs": [
    {
     "name": "stdout",
     "output_type": "stream",
     "text": [
      "3\n"
     ]
    }
   ],
   "source": [
    "# 3. 다음 movie의 배우의 인원을 출력하시오.\n",
    "print(len(movie['movieInfo']['actors']))# 3. 다음 movie의 배우의 인원을 출력하시오."
   ]
  }
 ],
 "metadata": {
  "kernelspec": {
   "display_name": "Python 3 (ipykernel)",
   "language": "python",
   "name": "python3"
  },
  "language_info": {
   "codemirror_mode": {
    "name": "ipython",
    "version": 3
   },
   "file_extension": ".py",
   "mimetype": "text/x-python",
   "name": "python",
   "nbconvert_exporter": "python",
   "pygments_lexer": "ipython3",
   "version": "3.9.9"
  },
  "toc": {
   "base_numbering": 1,
   "nav_menu": {},
   "number_sections": true,
   "sideBar": true,
   "skip_h1_title": false,
   "title_cell": "Table of Contents",
   "title_sidebar": "Contents",
   "toc_cell": false,
   "toc_position": {},
   "toc_section_display": true,
   "toc_window_display": false
  }
 },
 "nbformat": 4,
 "nbformat_minor": 5
}
